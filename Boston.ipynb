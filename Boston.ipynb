{
  "nbformat": 4,
  "nbformat_minor": 0,
  "metadata": {
    "colab": {
      "name": "Boston.ipynb",
      "provenance": [],
      "collapsed_sections": []
    },
    "kernelspec": {
      "name": "python3",
      "display_name": "Python 3"
    }
  },
  "cells": [
    {
      "cell_type": "markdown",
      "metadata": {
        "id": "VZuertjA8cM1",
        "colab_type": "text"
      },
      "source": [
        "\n",
        "**Domain**: Real Estate\n",
        "\n",
        "**Problem Statement**: You are provided with a housing dataset that contains information about different houses in Boston. As a data scientist, you are asked to predict the price of the house by analyzing the entire dataset.\n",
        "\n",
        "**Dataset used**: Boston House Dataset\n",
        "\n",
        "**Dataset description**: This data was originally a part of the UCI Machine Learning Repository and has been removed now. We can also access this data from the scikit-learn library. There are 506 samples and 13 feature variables in this dataset. The objective is to predict the value of prices of the house using the given features:\n",
        "\n",
        "* **CRIM**: Per capita crime rate by town\n",
        "\n",
        "* **ZN**: Proportion of residential land zoned for lots over 25,000 sq. ft\n",
        "\n",
        "* **INDUS**: Proportion of non-retail business acres per town\n",
        "\n",
        "* **CHAS**: Charles River dummy variable (= 1 if tract bounds river; 0 otherwise)\n",
        "\n",
        "* **NOX**: Nitric oxide concentration (parts per 10 million)\n",
        "\n",
        "* **RM**: Average number of rooms per dwelling\n",
        "\n",
        "* **AGE**: Proportion of owner-occupied units built prior to 1940\n",
        "\n",
        "* **DIS**: Weighted distances to five Boston employment centers\n",
        "\n",
        "* **RAD**: Index of accessibility to radial highways\n",
        "\n",
        "* **TAX**: Full-value property tax rate per $10,000\n",
        "\n",
        "* **PTRATIO**: Pupil-teacher ratio by town\n",
        "\n",
        "* **B**: 1000(Bk — 0.63)², where Bk is the proportion of [people of African American descent] by town\n",
        "\n",
        "* **LSTAT**: Percentage of the lower status of the population\n",
        "\n",
        "* **MEDV**: Median value of owner-occupied homes in $1000s\n",
        "\n",
        "**Tasks to be performed**: \n",
        "\n",
        "* Importing Required Libraries\n",
        "* Loading the Dataset\n",
        "* Analyzing and Preparing the Dataset\n",
        "* Visualizing the Dataset\n",
        "* Splitting the data into training and testing\n",
        "* Implementing **Simple Linear Regression**\n",
        "* Implementing **Multiple Linear Regression**\n",
        "* Implementing **Polynomial Regression**\n",
        "* Implementing **Ridge and Lasso Regression**\n",
        "\n",
        "**Hint**: If the model accuracy is below 80%, it means you need to reclean, reanalyze and retrain your model. "
      ]
    },
    {
      "cell_type": "markdown",
      "metadata": {
        "id": "2su9lKim28fP",
        "colab_type": "text"
      },
      "source": [
        "**Importing Required Libraries**"
      ]
    },
    {
      "cell_type": "code",
      "metadata": {
        "id": "vU4G-FaaJmeq",
        "colab_type": "code",
        "colab": {}
      },
      "source": [
        "import pandas as pd\n",
        "import numpy as np\n",
        "import matplotlib.pyplot as plt\n",
        "import seaborn as sns\n",
        "\n",
        "from sklearn.datasets import load_boston\n",
        "from sklearn.linear_model import LinearRegression \n",
        "from sklearn.preprocessing import PolynomialFeatures\n",
        "from sklearn.linear_model import Lasso\n",
        "from sklearn.linear_model import Ridge\n",
        "\n",
        "\n",
        "from sklearn import metrics\n",
        "from sklearn.metrics import mean_squared_error, r2_score\n",
        "from sklearn.model_selection import train_test_split"
      ],
      "execution_count": 0,
      "outputs": []
    },
    {
      "cell_type": "code",
      "metadata": {
        "id": "-OJFfswU2kBh",
        "colab_type": "code",
        "colab": {}
      },
      "source": [
        "import warnings\n",
        "warnings.filterwarnings(\"ignore\")"
      ],
      "execution_count": 0,
      "outputs": []
    },
    {
      "cell_type": "markdown",
      "metadata": {
        "id": "GVcNUcV5gBSN",
        "colab_type": "text"
      },
      "source": [
        "**Loading the Datset**"
      ]
    },
    {
      "cell_type": "code",
      "metadata": {
        "id": "ew5aiDZGb199",
        "colab_type": "code",
        "colab": {}
      },
      "source": [
        "boston = load_boston()"
      ],
      "execution_count": 0,
      "outputs": []
    },
    {
      "cell_type": "markdown",
      "metadata": {
        "id": "QyJKjKFt2rIz",
        "colab_type": "text"
      },
      "source": [
        "**Analyzing the Dataset**"
      ]
    },
    {
      "cell_type": "code",
      "metadata": {
        "id": "uju4f7H1ky1R",
        "colab_type": "code",
        "outputId": "c8547e06-9669-4ea6-8c5b-c76703310f94",
        "colab": {
          "base_uri": "https://localhost:8080/",
          "height": 34
        }
      },
      "source": [
        "boston.keys()"
      ],
      "execution_count": 4,
      "outputs": [
        {
          "output_type": "execute_result",
          "data": {
            "text/plain": [
              "dict_keys(['data', 'target', 'feature_names', 'DESCR', 'filename'])"
            ]
          },
          "metadata": {
            "tags": []
          },
          "execution_count": 4
        }
      ]
    },
    {
      "cell_type": "code",
      "metadata": {
        "id": "sCVoYlVkk4Hu",
        "colab_type": "code",
        "outputId": "6d01d59d-9313-4fd1-889a-f3013d8e2819",
        "colab": {
          "base_uri": "https://localhost:8080/",
          "height": 238
        }
      },
      "source": [
        "boston.data"
      ],
      "execution_count": 5,
      "outputs": [
        {
          "output_type": "execute_result",
          "data": {
            "text/plain": [
              "array([[6.3200e-03, 1.8000e+01, 2.3100e+00, ..., 1.5300e+01, 3.9690e+02,\n",
              "        4.9800e+00],\n",
              "       [2.7310e-02, 0.0000e+00, 7.0700e+00, ..., 1.7800e+01, 3.9690e+02,\n",
              "        9.1400e+00],\n",
              "       [2.7290e-02, 0.0000e+00, 7.0700e+00, ..., 1.7800e+01, 3.9283e+02,\n",
              "        4.0300e+00],\n",
              "       ...,\n",
              "       [6.0760e-02, 0.0000e+00, 1.1930e+01, ..., 2.1000e+01, 3.9690e+02,\n",
              "        5.6400e+00],\n",
              "       [1.0959e-01, 0.0000e+00, 1.1930e+01, ..., 2.1000e+01, 3.9345e+02,\n",
              "        6.4800e+00],\n",
              "       [4.7410e-02, 0.0000e+00, 1.1930e+01, ..., 2.1000e+01, 3.9690e+02,\n",
              "        7.8800e+00]])"
            ]
          },
          "metadata": {
            "tags": []
          },
          "execution_count": 5
        }
      ]
    },
    {
      "cell_type": "code",
      "metadata": {
        "id": "5-QhLcWplCIn",
        "colab_type": "code",
        "outputId": "b2c408d2-ef79-4a05-d5c7-801bb4cbf950",
        "colab": {
          "base_uri": "https://localhost:8080/",
          "height": 51
        }
      },
      "source": [
        "boston.feature_names"
      ],
      "execution_count": 6,
      "outputs": [
        {
          "output_type": "execute_result",
          "data": {
            "text/plain": [
              "array(['CRIM', 'ZN', 'INDUS', 'CHAS', 'NOX', 'RM', 'AGE', 'DIS', 'RAD',\n",
              "       'TAX', 'PTRATIO', 'B', 'LSTAT'], dtype='<U7')"
            ]
          },
          "metadata": {
            "tags": []
          },
          "execution_count": 6
        }
      ]
    },
    {
      "cell_type": "code",
      "metadata": {
        "id": "xaB7cY0x2fvY",
        "colab_type": "code",
        "outputId": "1ee1537c-b204-4297-d9c1-fb1cdabb8a5f",
        "colab": {
          "base_uri": "https://localhost:8080/",
          "height": 904
        }
      },
      "source": [
        "print(boston.DESCR)"
      ],
      "execution_count": 7,
      "outputs": [
        {
          "output_type": "stream",
          "text": [
            ".. _boston_dataset:\n",
            "\n",
            "Boston house prices dataset\n",
            "---------------------------\n",
            "\n",
            "**Data Set Characteristics:**  \n",
            "\n",
            "    :Number of Instances: 506 \n",
            "\n",
            "    :Number of Attributes: 13 numeric/categorical predictive. Median Value (attribute 14) is usually the target.\n",
            "\n",
            "    :Attribute Information (in order):\n",
            "        - CRIM     per capita crime rate by town\n",
            "        - ZN       proportion of residential land zoned for lots over 25,000 sq.ft.\n",
            "        - INDUS    proportion of non-retail business acres per town\n",
            "        - CHAS     Charles River dummy variable (= 1 if tract bounds river; 0 otherwise)\n",
            "        - NOX      nitric oxides concentration (parts per 10 million)\n",
            "        - RM       average number of rooms per dwelling\n",
            "        - AGE      proportion of owner-occupied units built prior to 1940\n",
            "        - DIS      weighted distances to five Boston employment centres\n",
            "        - RAD      index of accessibility to radial highways\n",
            "        - TAX      full-value property-tax rate per $10,000\n",
            "        - PTRATIO  pupil-teacher ratio by town\n",
            "        - B        1000(Bk - 0.63)^2 where Bk is the proportion of blacks by town\n",
            "        - LSTAT    % lower status of the population\n",
            "        - MEDV     Median value of owner-occupied homes in $1000's\n",
            "\n",
            "    :Missing Attribute Values: None\n",
            "\n",
            "    :Creator: Harrison, D. and Rubinfeld, D.L.\n",
            "\n",
            "This is a copy of UCI ML housing dataset.\n",
            "https://archive.ics.uci.edu/ml/machine-learning-databases/housing/\n",
            "\n",
            "\n",
            "This dataset was taken from the StatLib library which is maintained at Carnegie Mellon University.\n",
            "\n",
            "The Boston house-price data of Harrison, D. and Rubinfeld, D.L. 'Hedonic\n",
            "prices and the demand for clean air', J. Environ. Economics & Management,\n",
            "vol.5, 81-102, 1978.   Used in Belsley, Kuh & Welsch, 'Regression diagnostics\n",
            "...', Wiley, 1980.   N.B. Various transformations are used in the table on\n",
            "pages 244-261 of the latter.\n",
            "\n",
            "The Boston house-price data has been used in many machine learning papers that address regression\n",
            "problems.   \n",
            "     \n",
            ".. topic:: References\n",
            "\n",
            "   - Belsley, Kuh & Welsch, 'Regression diagnostics: Identifying Influential Data and Sources of Collinearity', Wiley, 1980. 244-261.\n",
            "   - Quinlan,R. (1993). Combining Instance-Based and Model-Based Learning. In Proceedings on the Tenth International Conference of Machine Learning, 236-243, University of Massachusetts, Amherst. Morgan Kaufmann.\n",
            "\n"
          ],
          "name": "stdout"
        }
      ]
    },
    {
      "cell_type": "markdown",
      "metadata": {
        "id": "bnxaIDJ_2wfm",
        "colab_type": "text"
      },
      "source": [
        "**Converting the dataset into Pandas DataFrame**"
      ]
    },
    {
      "cell_type": "code",
      "metadata": {
        "id": "GZg3mzyLb7pJ",
        "colab_type": "code",
        "outputId": "1dbce289-5106-4086-f610-023c8b98779d",
        "colab": {
          "base_uri": "https://localhost:8080/",
          "height": 204
        }
      },
      "source": [
        "df=pd.DataFrame(boston.data,columns=boston.feature_names)\n",
        "df['medv']=boston.target\n",
        "df.head()"
      ],
      "execution_count": 8,
      "outputs": [
        {
          "output_type": "execute_result",
          "data": {
            "text/html": [
              "<div>\n",
              "<style scoped>\n",
              "    .dataframe tbody tr th:only-of-type {\n",
              "        vertical-align: middle;\n",
              "    }\n",
              "\n",
              "    .dataframe tbody tr th {\n",
              "        vertical-align: top;\n",
              "    }\n",
              "\n",
              "    .dataframe thead th {\n",
              "        text-align: right;\n",
              "    }\n",
              "</style>\n",
              "<table border=\"1\" class=\"dataframe\">\n",
              "  <thead>\n",
              "    <tr style=\"text-align: right;\">\n",
              "      <th></th>\n",
              "      <th>CRIM</th>\n",
              "      <th>ZN</th>\n",
              "      <th>INDUS</th>\n",
              "      <th>CHAS</th>\n",
              "      <th>NOX</th>\n",
              "      <th>RM</th>\n",
              "      <th>AGE</th>\n",
              "      <th>DIS</th>\n",
              "      <th>RAD</th>\n",
              "      <th>TAX</th>\n",
              "      <th>PTRATIO</th>\n",
              "      <th>B</th>\n",
              "      <th>LSTAT</th>\n",
              "      <th>medv</th>\n",
              "    </tr>\n",
              "  </thead>\n",
              "  <tbody>\n",
              "    <tr>\n",
              "      <th>0</th>\n",
              "      <td>0.00632</td>\n",
              "      <td>18.0</td>\n",
              "      <td>2.31</td>\n",
              "      <td>0.0</td>\n",
              "      <td>0.538</td>\n",
              "      <td>6.575</td>\n",
              "      <td>65.2</td>\n",
              "      <td>4.0900</td>\n",
              "      <td>1.0</td>\n",
              "      <td>296.0</td>\n",
              "      <td>15.3</td>\n",
              "      <td>396.90</td>\n",
              "      <td>4.98</td>\n",
              "      <td>24.0</td>\n",
              "    </tr>\n",
              "    <tr>\n",
              "      <th>1</th>\n",
              "      <td>0.02731</td>\n",
              "      <td>0.0</td>\n",
              "      <td>7.07</td>\n",
              "      <td>0.0</td>\n",
              "      <td>0.469</td>\n",
              "      <td>6.421</td>\n",
              "      <td>78.9</td>\n",
              "      <td>4.9671</td>\n",
              "      <td>2.0</td>\n",
              "      <td>242.0</td>\n",
              "      <td>17.8</td>\n",
              "      <td>396.90</td>\n",
              "      <td>9.14</td>\n",
              "      <td>21.6</td>\n",
              "    </tr>\n",
              "    <tr>\n",
              "      <th>2</th>\n",
              "      <td>0.02729</td>\n",
              "      <td>0.0</td>\n",
              "      <td>7.07</td>\n",
              "      <td>0.0</td>\n",
              "      <td>0.469</td>\n",
              "      <td>7.185</td>\n",
              "      <td>61.1</td>\n",
              "      <td>4.9671</td>\n",
              "      <td>2.0</td>\n",
              "      <td>242.0</td>\n",
              "      <td>17.8</td>\n",
              "      <td>392.83</td>\n",
              "      <td>4.03</td>\n",
              "      <td>34.7</td>\n",
              "    </tr>\n",
              "    <tr>\n",
              "      <th>3</th>\n",
              "      <td>0.03237</td>\n",
              "      <td>0.0</td>\n",
              "      <td>2.18</td>\n",
              "      <td>0.0</td>\n",
              "      <td>0.458</td>\n",
              "      <td>6.998</td>\n",
              "      <td>45.8</td>\n",
              "      <td>6.0622</td>\n",
              "      <td>3.0</td>\n",
              "      <td>222.0</td>\n",
              "      <td>18.7</td>\n",
              "      <td>394.63</td>\n",
              "      <td>2.94</td>\n",
              "      <td>33.4</td>\n",
              "    </tr>\n",
              "    <tr>\n",
              "      <th>4</th>\n",
              "      <td>0.06905</td>\n",
              "      <td>0.0</td>\n",
              "      <td>2.18</td>\n",
              "      <td>0.0</td>\n",
              "      <td>0.458</td>\n",
              "      <td>7.147</td>\n",
              "      <td>54.2</td>\n",
              "      <td>6.0622</td>\n",
              "      <td>3.0</td>\n",
              "      <td>222.0</td>\n",
              "      <td>18.7</td>\n",
              "      <td>396.90</td>\n",
              "      <td>5.33</td>\n",
              "      <td>36.2</td>\n",
              "    </tr>\n",
              "  </tbody>\n",
              "</table>\n",
              "</div>"
            ],
            "text/plain": [
              "      CRIM    ZN  INDUS  CHAS    NOX  ...    TAX  PTRATIO       B  LSTAT  medv\n",
              "0  0.00632  18.0   2.31   0.0  0.538  ...  296.0     15.3  396.90   4.98  24.0\n",
              "1  0.02731   0.0   7.07   0.0  0.469  ...  242.0     17.8  396.90   9.14  21.6\n",
              "2  0.02729   0.0   7.07   0.0  0.469  ...  242.0     17.8  392.83   4.03  34.7\n",
              "3  0.03237   0.0   2.18   0.0  0.458  ...  222.0     18.7  394.63   2.94  33.4\n",
              "4  0.06905   0.0   2.18   0.0  0.458  ...  222.0     18.7  396.90   5.33  36.2\n",
              "\n",
              "[5 rows x 14 columns]"
            ]
          },
          "metadata": {
            "tags": []
          },
          "execution_count": 8
        }
      ]
    },
    {
      "cell_type": "code",
      "metadata": {
        "colab_type": "code",
        "outputId": "1aac4957-4450-4b7a-c9af-d9ea578dbda8",
        "id": "5FSnmto-FUTU",
        "colab": {
          "base_uri": "https://localhost:8080/",
          "height": 204
        }
      },
      "source": [
        "df.head()"
      ],
      "execution_count": 9,
      "outputs": [
        {
          "output_type": "execute_result",
          "data": {
            "text/html": [
              "<div>\n",
              "<style scoped>\n",
              "    .dataframe tbody tr th:only-of-type {\n",
              "        vertical-align: middle;\n",
              "    }\n",
              "\n",
              "    .dataframe tbody tr th {\n",
              "        vertical-align: top;\n",
              "    }\n",
              "\n",
              "    .dataframe thead th {\n",
              "        text-align: right;\n",
              "    }\n",
              "</style>\n",
              "<table border=\"1\" class=\"dataframe\">\n",
              "  <thead>\n",
              "    <tr style=\"text-align: right;\">\n",
              "      <th></th>\n",
              "      <th>CRIM</th>\n",
              "      <th>ZN</th>\n",
              "      <th>INDUS</th>\n",
              "      <th>CHAS</th>\n",
              "      <th>NOX</th>\n",
              "      <th>RM</th>\n",
              "      <th>AGE</th>\n",
              "      <th>DIS</th>\n",
              "      <th>RAD</th>\n",
              "      <th>TAX</th>\n",
              "      <th>PTRATIO</th>\n",
              "      <th>B</th>\n",
              "      <th>LSTAT</th>\n",
              "      <th>medv</th>\n",
              "    </tr>\n",
              "  </thead>\n",
              "  <tbody>\n",
              "    <tr>\n",
              "      <th>0</th>\n",
              "      <td>0.00632</td>\n",
              "      <td>18.0</td>\n",
              "      <td>2.31</td>\n",
              "      <td>0.0</td>\n",
              "      <td>0.538</td>\n",
              "      <td>6.575</td>\n",
              "      <td>65.2</td>\n",
              "      <td>4.0900</td>\n",
              "      <td>1.0</td>\n",
              "      <td>296.0</td>\n",
              "      <td>15.3</td>\n",
              "      <td>396.90</td>\n",
              "      <td>4.98</td>\n",
              "      <td>24.0</td>\n",
              "    </tr>\n",
              "    <tr>\n",
              "      <th>1</th>\n",
              "      <td>0.02731</td>\n",
              "      <td>0.0</td>\n",
              "      <td>7.07</td>\n",
              "      <td>0.0</td>\n",
              "      <td>0.469</td>\n",
              "      <td>6.421</td>\n",
              "      <td>78.9</td>\n",
              "      <td>4.9671</td>\n",
              "      <td>2.0</td>\n",
              "      <td>242.0</td>\n",
              "      <td>17.8</td>\n",
              "      <td>396.90</td>\n",
              "      <td>9.14</td>\n",
              "      <td>21.6</td>\n",
              "    </tr>\n",
              "    <tr>\n",
              "      <th>2</th>\n",
              "      <td>0.02729</td>\n",
              "      <td>0.0</td>\n",
              "      <td>7.07</td>\n",
              "      <td>0.0</td>\n",
              "      <td>0.469</td>\n",
              "      <td>7.185</td>\n",
              "      <td>61.1</td>\n",
              "      <td>4.9671</td>\n",
              "      <td>2.0</td>\n",
              "      <td>242.0</td>\n",
              "      <td>17.8</td>\n",
              "      <td>392.83</td>\n",
              "      <td>4.03</td>\n",
              "      <td>34.7</td>\n",
              "    </tr>\n",
              "    <tr>\n",
              "      <th>3</th>\n",
              "      <td>0.03237</td>\n",
              "      <td>0.0</td>\n",
              "      <td>2.18</td>\n",
              "      <td>0.0</td>\n",
              "      <td>0.458</td>\n",
              "      <td>6.998</td>\n",
              "      <td>45.8</td>\n",
              "      <td>6.0622</td>\n",
              "      <td>3.0</td>\n",
              "      <td>222.0</td>\n",
              "      <td>18.7</td>\n",
              "      <td>394.63</td>\n",
              "      <td>2.94</td>\n",
              "      <td>33.4</td>\n",
              "    </tr>\n",
              "    <tr>\n",
              "      <th>4</th>\n",
              "      <td>0.06905</td>\n",
              "      <td>0.0</td>\n",
              "      <td>2.18</td>\n",
              "      <td>0.0</td>\n",
              "      <td>0.458</td>\n",
              "      <td>7.147</td>\n",
              "      <td>54.2</td>\n",
              "      <td>6.0622</td>\n",
              "      <td>3.0</td>\n",
              "      <td>222.0</td>\n",
              "      <td>18.7</td>\n",
              "      <td>396.90</td>\n",
              "      <td>5.33</td>\n",
              "      <td>36.2</td>\n",
              "    </tr>\n",
              "  </tbody>\n",
              "</table>\n",
              "</div>"
            ],
            "text/plain": [
              "      CRIM    ZN  INDUS  CHAS    NOX  ...    TAX  PTRATIO       B  LSTAT  medv\n",
              "0  0.00632  18.0   2.31   0.0  0.538  ...  296.0     15.3  396.90   4.98  24.0\n",
              "1  0.02731   0.0   7.07   0.0  0.469  ...  242.0     17.8  396.90   9.14  21.6\n",
              "2  0.02729   0.0   7.07   0.0  0.469  ...  242.0     17.8  392.83   4.03  34.7\n",
              "3  0.03237   0.0   2.18   0.0  0.458  ...  222.0     18.7  394.63   2.94  33.4\n",
              "4  0.06905   0.0   2.18   0.0  0.458  ...  222.0     18.7  396.90   5.33  36.2\n",
              "\n",
              "[5 rows x 14 columns]"
            ]
          },
          "metadata": {
            "tags": []
          },
          "execution_count": 9
        }
      ]
    },
    {
      "cell_type": "code",
      "metadata": {
        "colab_type": "code",
        "outputId": "a7cd6fc3-dda2-4dc8-a0f6-74bf047dd485",
        "id": "yYLErtDjFTzw",
        "colab": {
          "base_uri": "https://localhost:8080/",
          "height": 34
        }
      },
      "source": [
        "df.shape"
      ],
      "execution_count": 10,
      "outputs": [
        {
          "output_type": "execute_result",
          "data": {
            "text/plain": [
              "(506, 14)"
            ]
          },
          "metadata": {
            "tags": []
          },
          "execution_count": 10
        }
      ]
    },
    {
      "cell_type": "code",
      "metadata": {
        "id": "FDqDwBS6UNko",
        "colab_type": "code",
        "outputId": "150e3a82-06f6-487b-8179-c39eadb465a3",
        "colab": {
          "base_uri": "https://localhost:8080/",
          "height": 272
        }
      },
      "source": [
        "df.dtypes"
      ],
      "execution_count": 11,
      "outputs": [
        {
          "output_type": "execute_result",
          "data": {
            "text/plain": [
              "CRIM       float64\n",
              "ZN         float64\n",
              "INDUS      float64\n",
              "CHAS       float64\n",
              "NOX        float64\n",
              "RM         float64\n",
              "AGE        float64\n",
              "DIS        float64\n",
              "RAD        float64\n",
              "TAX        float64\n",
              "PTRATIO    float64\n",
              "B          float64\n",
              "LSTAT      float64\n",
              "medv       float64\n",
              "dtype: object"
            ]
          },
          "metadata": {
            "tags": []
          },
          "execution_count": 11
        }
      ]
    },
    {
      "cell_type": "code",
      "metadata": {
        "id": "7YFL8NISOLBT",
        "colab_type": "code",
        "outputId": "c067e588-a04c-4250-99d1-f5010ae12c98",
        "colab": {
          "base_uri": "https://localhost:8080/",
          "height": 340
        }
      },
      "source": [
        "df.info()"
      ],
      "execution_count": 12,
      "outputs": [
        {
          "output_type": "stream",
          "text": [
            "<class 'pandas.core.frame.DataFrame'>\n",
            "RangeIndex: 506 entries, 0 to 505\n",
            "Data columns (total 14 columns):\n",
            "CRIM       506 non-null float64\n",
            "ZN         506 non-null float64\n",
            "INDUS      506 non-null float64\n",
            "CHAS       506 non-null float64\n",
            "NOX        506 non-null float64\n",
            "RM         506 non-null float64\n",
            "AGE        506 non-null float64\n",
            "DIS        506 non-null float64\n",
            "RAD        506 non-null float64\n",
            "TAX        506 non-null float64\n",
            "PTRATIO    506 non-null float64\n",
            "B          506 non-null float64\n",
            "LSTAT      506 non-null float64\n",
            "medv       506 non-null float64\n",
            "dtypes: float64(14)\n",
            "memory usage: 55.5 KB\n"
          ],
          "name": "stdout"
        }
      ]
    },
    {
      "cell_type": "code",
      "metadata": {
        "id": "5JjpNGKeLKMc",
        "colab_type": "code",
        "outputId": "a27a8c2c-8dad-45d4-fe29-6a0d646a764e",
        "colab": {
          "base_uri": "https://localhost:8080/",
          "height": 272
        }
      },
      "source": [
        "df.isnull().sum()"
      ],
      "execution_count": 13,
      "outputs": [
        {
          "output_type": "execute_result",
          "data": {
            "text/plain": [
              "CRIM       0\n",
              "ZN         0\n",
              "INDUS      0\n",
              "CHAS       0\n",
              "NOX        0\n",
              "RM         0\n",
              "AGE        0\n",
              "DIS        0\n",
              "RAD        0\n",
              "TAX        0\n",
              "PTRATIO    0\n",
              "B          0\n",
              "LSTAT      0\n",
              "medv       0\n",
              "dtype: int64"
            ]
          },
          "metadata": {
            "tags": []
          },
          "execution_count": 13
        }
      ]
    },
    {
      "cell_type": "markdown",
      "metadata": {
        "id": "IXik6iEgoAWL",
        "colab_type": "text"
      },
      "source": [
        "**Visualizing the Dataset**"
      ]
    },
    {
      "cell_type": "code",
      "metadata": {
        "id": "_6Qy71ds-Uo3",
        "colab_type": "code",
        "outputId": "86de9057-2ed8-4f55-a363-8f1943a9ad10",
        "colab": {
          "base_uri": "https://localhost:8080/",
          "height": 607
        }
      },
      "source": [
        "df.hist(figsize=(10,10))\n",
        "plt.show()"
      ],
      "execution_count": 14,
      "outputs": [
        {
          "output_type": "display_data",
          "data": {
            "image/png": "[encoded data removed]",
            "text/plain": [
              "<Figure size 720x720 with 16 Axes>"
            ]
          },
          "metadata": {
            "tags": []
          }
        }
      ]
    },
    {
      "cell_type": "markdown",
      "metadata": {
        "id": "5s4Mg0Vlnyfi",
        "colab_type": "text"
      },
      "source": [
        "**From above, you can see the distribution of all the features present in the dataset**"
      ]
    },
    {
      "cell_type": "markdown",
      "metadata": {
        "id": "_daZyqfKgKC_",
        "colab_type": "text"
      },
      "source": [
        "**Let us take a look at the spread of our dataset**\n"
      ]
    },
    {
      "cell_type": "code",
      "metadata": {
        "id": "8D7_y4NQ-_E9",
        "colab_type": "code",
        "outputId": "b864f030-2454-4b9b-b213-28fa1835382d",
        "colab": {
          "base_uri": "https://localhost:8080/",
          "height": 317
        }
      },
      "source": [
        "df.describe()"
      ],
      "execution_count": 16,
      "outputs": [
        {
          "output_type": "execute_result",
          "data": {
            "text/html": [
              "<div>\n",
              "<style scoped>\n",
              "    .dataframe tbody tr th:only-of-type {\n",
              "        vertical-align: middle;\n",
              "    }\n",
              "\n",
              "    .dataframe tbody tr th {\n",
              "        vertical-align: top;\n",
              "    }\n",
              "\n",
              "    .dataframe thead th {\n",
              "        text-align: right;\n",
              "    }\n",
              "</style>\n",
              "<table border=\"1\" class=\"dataframe\">\n",
              "  <thead>\n",
              "    <tr style=\"text-align: right;\">\n",
              "      <th></th>\n",
              "      <th>CRIM</th>\n",
              "      <th>ZN</th>\n",
              "      <th>INDUS</th>\n",
              "      <th>CHAS</th>\n",
              "      <th>NOX</th>\n",
              "      <th>RM</th>\n",
              "      <th>AGE</th>\n",
              "      <th>DIS</th>\n",
              "      <th>RAD</th>\n",
              "      <th>TAX</th>\n",
              "      <th>PTRATIO</th>\n",
              "      <th>B</th>\n",
              "      <th>LSTAT</th>\n",
              "      <th>medv</th>\n",
              "    </tr>\n",
              "  </thead>\n",
              "  <tbody>\n",
              "    <tr>\n",
              "      <th>count</th>\n",
              "      <td>506.000000</td>\n",
              "      <td>506.000000</td>\n",
              "      <td>506.000000</td>\n",
              "      <td>506.000000</td>\n",
              "      <td>506.000000</td>\n",
              "      <td>506.000000</td>\n",
              "      <td>506.000000</td>\n",
              "      <td>506.000000</td>\n",
              "      <td>506.000000</td>\n",
              "      <td>506.000000</td>\n",
              "      <td>506.000000</td>\n",
              "      <td>506.000000</td>\n",
              "      <td>506.000000</td>\n",
              "      <td>506.000000</td>\n",
              "    </tr>\n",
              "    <tr>\n",
              "      <th>mean</th>\n",
              "      <td>3.613524</td>\n",
              "      <td>11.363636</td>\n",
              "      <td>11.136779</td>\n",
              "      <td>0.069170</td>\n",
              "      <td>0.554695</td>\n",
              "      <td>6.284634</td>\n",
              "      <td>68.574901</td>\n",
              "      <td>3.795043</td>\n",
              "      <td>9.549407</td>\n",
              "      <td>408.237154</td>\n",
              "      <td>18.455534</td>\n",
              "      <td>356.674032</td>\n",
              "      <td>12.653063</td>\n",
              "      <td>22.532806</td>\n",
              "    </tr>\n",
              "    <tr>\n",
              "      <th>std</th>\n",
              "      <td>8.601545</td>\n",
              "      <td>23.322453</td>\n",
              "      <td>6.860353</td>\n",
              "      <td>0.253994</td>\n",
              "      <td>0.115878</td>\n",
              "      <td>0.702617</td>\n",
              "      <td>28.148861</td>\n",
              "      <td>2.105710</td>\n",
              "      <td>8.707259</td>\n",
              "      <td>168.537116</td>\n",
              "      <td>2.164946</td>\n",
              "      <td>91.294864</td>\n",
              "      <td>7.141062</td>\n",
              "      <td>9.197104</td>\n",
              "    </tr>\n",
              "    <tr>\n",
              "      <th>min</th>\n",
              "      <td>0.006320</td>\n",
              "      <td>0.000000</td>\n",
              "      <td>0.460000</td>\n",
              "      <td>0.000000</td>\n",
              "      <td>0.385000</td>\n",
              "      <td>3.561000</td>\n",
              "      <td>2.900000</td>\n",
              "      <td>1.129600</td>\n",
              "      <td>1.000000</td>\n",
              "      <td>187.000000</td>\n",
              "      <td>12.600000</td>\n",
              "      <td>0.320000</td>\n",
              "      <td>1.730000</td>\n",
              "      <td>5.000000</td>\n",
              "    </tr>\n",
              "    <tr>\n",
              "      <th>25%</th>\n",
              "      <td>0.082045</td>\n",
              "      <td>0.000000</td>\n",
              "      <td>5.190000</td>\n",
              "      <td>0.000000</td>\n",
              "      <td>0.449000</td>\n",
              "      <td>5.885500</td>\n",
              "      <td>45.025000</td>\n",
              "      <td>2.100175</td>\n",
              "      <td>4.000000</td>\n",
              "      <td>279.000000</td>\n",
              "      <td>17.400000</td>\n",
              "      <td>375.377500</td>\n",
              "      <td>6.950000</td>\n",
              "      <td>17.025000</td>\n",
              "    </tr>\n",
              "    <tr>\n",
              "      <th>50%</th>\n",
              "      <td>0.256510</td>\n",
              "      <td>0.000000</td>\n",
              "      <td>9.690000</td>\n",
              "      <td>0.000000</td>\n",
              "      <td>0.538000</td>\n",
              "      <td>6.208500</td>\n",
              "      <td>77.500000</td>\n",
              "      <td>3.207450</td>\n",
              "      <td>5.000000</td>\n",
              "      <td>330.000000</td>\n",
              "      <td>19.050000</td>\n",
              "      <td>391.440000</td>\n",
              "      <td>11.360000</td>\n",
              "      <td>21.200000</td>\n",
              "    </tr>\n",
              "    <tr>\n",
              "      <th>75%</th>\n",
              "      <td>3.677083</td>\n",
              "      <td>12.500000</td>\n",
              "      <td>18.100000</td>\n",
              "      <td>0.000000</td>\n",
              "      <td>0.624000</td>\n",
              "      <td>6.623500</td>\n",
              "      <td>94.075000</td>\n",
              "      <td>5.188425</td>\n",
              "      <td>24.000000</td>\n",
              "      <td>666.000000</td>\n",
              "      <td>20.200000</td>\n",
              "      <td>396.225000</td>\n",
              "      <td>16.955000</td>\n",
              "      <td>25.000000</td>\n",
              "    </tr>\n",
              "    <tr>\n",
              "      <th>max</th>\n",
              "      <td>88.976200</td>\n",
              "      <td>100.000000</td>\n",
              "      <td>27.740000</td>\n",
              "      <td>1.000000</td>\n",
              "      <td>0.871000</td>\n",
              "      <td>8.780000</td>\n",
              "      <td>100.000000</td>\n",
              "      <td>12.126500</td>\n",
              "      <td>24.000000</td>\n",
              "      <td>711.000000</td>\n",
              "      <td>22.000000</td>\n",
              "      <td>396.900000</td>\n",
              "      <td>37.970000</td>\n",
              "      <td>50.000000</td>\n",
              "    </tr>\n",
              "  </tbody>\n",
              "</table>\n",
              "</div>"
            ],
            "text/plain": [
              "             CRIM          ZN       INDUS  ...           B       LSTAT        medv\n",
              "count  506.000000  506.000000  506.000000  ...  506.000000  506.000000  506.000000\n",
              "mean     3.613524   11.363636   11.136779  ...  356.674032   12.653063   22.532806\n",
              "std      8.601545   23.322453    6.860353  ...   91.294864    7.141062    9.197104\n",
              "min      0.006320    0.000000    0.460000  ...    0.320000    1.730000    5.000000\n",
              "25%      0.082045    0.000000    5.190000  ...  375.377500    6.950000   17.025000\n",
              "50%      0.256510    0.000000    9.690000  ...  391.440000   11.360000   21.200000\n",
              "75%      3.677083   12.500000   18.100000  ...  396.225000   16.955000   25.000000\n",
              "max     88.976200  100.000000   27.740000  ...  396.900000   37.970000   50.000000\n",
              "\n",
              "[8 rows x 14 columns]"
            ]
          },
          "metadata": {
            "tags": []
          },
          "execution_count": 16
        }
      ]
    },
    {
      "cell_type": "markdown",
      "metadata": {
        "id": "zVqhziDT_Rkm",
        "colab_type": "text"
      },
      "source": [
        "**It seems some features are having outlier values, like values in CRIM is going as high as 88.97 where as the median('50%') is 0.25 and max value in LSTAT is 37 as compared to median 11.These high values might be outliers**\n",
        "\n",
        "**Outliers are extreme values, which can affect our model, so we need to remove them**"
      ]
    },
    {
      "cell_type": "markdown",
      "metadata": {
        "id": "HRQxGflO_kSo",
        "colab_type": "text"
      },
      "source": [
        "**Visualizing the data using Box Plot to identify the outliers**"
      ]
    },
    {
      "cell_type": "code",
      "metadata": {
        "id": "v_a5Yibl--_H",
        "colab_type": "code",
        "outputId": "aaa42ecd-e1eb-4b92-9dd4-eb77cab555d2",
        "colab": {
          "base_uri": "https://localhost:8080/",
          "height": 863
        }
      },
      "source": [
        "df.boxplot(figsize=(10,15))\n",
        "plt.show()"
      ],
      "execution_count": 17,
      "outputs": [
        {
          "output_type": "display_data",
          "data": {
            "image/png": "[encoded data removed]",
            "text/plain": [
              "<Figure size 720x1080 with 1 Axes>"
            ]
          },
          "metadata": {
            "tags": []
          }
        }
      ]
    },
    {
      "cell_type": "markdown",
      "metadata": {
        "id": "fV2GjfNL5iJN",
        "colab_type": "text"
      },
      "source": [
        "**From above, we can see that CRIM, ZN, B, and LSTAT are having several Outliers**"
      ]
    },
    {
      "cell_type": "markdown",
      "metadata": {
        "id": "Wj9CrkRwASdH",
        "colab_type": "text"
      },
      "source": [
        "**Normal Distribution Curve - Before Removing Outliers**"
      ]
    },
    {
      "cell_type": "code",
      "metadata": {
        "id": "iJeMAyKO--3K",
        "colab_type": "code",
        "outputId": "93d9507c-71fe-4708-b939-29295cc28389",
        "colab": {
          "base_uri": "https://localhost:8080/",
          "height": 296
        }
      },
      "source": [
        "sns.distplot(df['CRIM'], hist=True, kde=True, color = 'darkblue')"
      ],
      "execution_count": 18,
      "outputs": [
        {
          "output_type": "execute_result",
          "data": {
            "text/plain": [
              "<matplotlib.axes._subplots.AxesSubplot at 0x7ff857747358>"
            ]
          },
          "metadata": {
            "tags": []
          },
          "execution_count": 18
        },
        {
          "output_type": "display_data",
          "data": {
            "image/png": "[encoded data removed]",
            "text/plain": [
              "<Figure size 432x288 with 1 Axes>"
            ]
          },
          "metadata": {
            "tags": []
          }
        }
      ]
    },
    {
      "cell_type": "markdown",
      "metadata": {
        "id": "4vYKBQ1zAqrC",
        "colab_type": "text"
      },
      "source": [
        "**From above, you can see that there are very less number of samples having ZN value between 80 and 100. They seem to be outlier values**"
      ]
    },
    {
      "cell_type": "code",
      "metadata": {
        "id": "mGqKp2tyAnni",
        "colab_type": "code",
        "colab": {}
      },
      "source": [
        "for col in ['CRIM','ZN','TAX','INDUS','RAD','B','LSTAT']:\n",
        "    percentiles = df[col].quantile([0.01,0.99]).values #Filtering 1%(0-1), 1%(99-100) extreme outlier data\n",
        "    df[col] = np.clip(df[col], percentiles[0], percentiles[1])"
      ],
      "execution_count": 0,
      "outputs": []
    },
    {
      "cell_type": "markdown",
      "metadata": {
        "id": "Gsa9StgOBVOa",
        "colab_type": "text"
      },
      "source": [
        "**From above, you can see that the outliers have been clipped using the numpy's clip function**"
      ]
    },
    {
      "cell_type": "markdown",
      "metadata": {
        "id": "c_eIetwk6jBL",
        "colab_type": "text"
      },
      "source": [
        "**Normal Distribution Curve after Removing Outliers**"
      ]
    },
    {
      "cell_type": "code",
      "metadata": {
        "id": "-4ElWBneAnlB",
        "colab_type": "code",
        "outputId": "f2fb7923-2645-4cf1-8aeb-fdd59d3277a9",
        "colab": {
          "base_uri": "https://localhost:8080/",
          "height": 296
        }
      },
      "source": [
        "sns.distplot(df['CRIM'], hist=True, kde=True, color = 'darkblue')"
      ],
      "execution_count": 20,
      "outputs": [
        {
          "output_type": "execute_result",
          "data": {
            "text/plain": [
              "<matplotlib.axes._subplots.AxesSubplot at 0x7ff857593668>"
            ]
          },
          "metadata": {
            "tags": []
          },
          "execution_count": 20
        },
        {
          "output_type": "display_data",
          "data": {
            "image/png": "[encoded data removed]",
            "text/plain": [
              "<Figure size 432x288 with 1 Axes>"
            ]
          },
          "metadata": {
            "tags": []
          }
        }
      ]
    },
    {
      "cell_type": "code",
      "metadata": {
        "id": "VIgcwvj0Anht",
        "colab_type": "code",
        "outputId": "2fad7765-e87a-4cc3-bde3-a6ae8b4a730d",
        "colab": {
          "base_uri": "https://localhost:8080/",
          "height": 317
        }
      },
      "source": [
        "df.describe()"
      ],
      "execution_count": 21,
      "outputs": [
        {
          "output_type": "execute_result",
          "data": {
            "text/html": [
              "<div>\n",
              "<style scoped>\n",
              "    .dataframe tbody tr th:only-of-type {\n",
              "        vertical-align: middle;\n",
              "    }\n",
              "\n",
              "    .dataframe tbody tr th {\n",
              "        vertical-align: top;\n",
              "    }\n",
              "\n",
              "    .dataframe thead th {\n",
              "        text-align: right;\n",
              "    }\n",
              "</style>\n",
              "<table border=\"1\" class=\"dataframe\">\n",
              "  <thead>\n",
              "    <tr style=\"text-align: right;\">\n",
              "      <th></th>\n",
              "      <th>CRIM</th>\n",
              "      <th>ZN</th>\n",
              "      <th>INDUS</th>\n",
              "      <th>CHAS</th>\n",
              "      <th>NOX</th>\n",
              "      <th>RM</th>\n",
              "      <th>AGE</th>\n",
              "      <th>DIS</th>\n",
              "      <th>RAD</th>\n",
              "      <th>TAX</th>\n",
              "      <th>PTRATIO</th>\n",
              "      <th>B</th>\n",
              "      <th>LSTAT</th>\n",
              "      <th>medv</th>\n",
              "    </tr>\n",
              "  </thead>\n",
              "  <tbody>\n",
              "    <tr>\n",
              "      <th>count</th>\n",
              "      <td>506.000000</td>\n",
              "      <td>506.000000</td>\n",
              "      <td>506.000000</td>\n",
              "      <td>506.000000</td>\n",
              "      <td>506.000000</td>\n",
              "      <td>506.000000</td>\n",
              "      <td>506.000000</td>\n",
              "      <td>506.000000</td>\n",
              "      <td>506.000000</td>\n",
              "      <td>506.000000</td>\n",
              "      <td>506.000000</td>\n",
              "      <td>506.000000</td>\n",
              "      <td>506.000000</td>\n",
              "      <td>506.000000</td>\n",
              "    </tr>\n",
              "    <tr>\n",
              "      <th>mean</th>\n",
              "      <td>3.375175</td>\n",
              "      <td>11.304348</td>\n",
              "      <td>11.118875</td>\n",
              "      <td>0.069170</td>\n",
              "      <td>0.554695</td>\n",
              "      <td>6.284634</td>\n",
              "      <td>68.574901</td>\n",
              "      <td>3.795043</td>\n",
              "      <td>9.549407</td>\n",
              "      <td>407.794466</td>\n",
              "      <td>18.455534</td>\n",
              "      <td>356.715751</td>\n",
              "      <td>12.642073</td>\n",
              "      <td>22.532806</td>\n",
              "    </tr>\n",
              "    <tr>\n",
              "      <th>std</th>\n",
              "      <td>6.908970</td>\n",
              "      <td>23.112644</td>\n",
              "      <td>6.809112</td>\n",
              "      <td>0.253994</td>\n",
              "      <td>0.115878</td>\n",
              "      <td>0.702617</td>\n",
              "      <td>28.148861</td>\n",
              "      <td>2.105710</td>\n",
              "      <td>8.707259</td>\n",
              "      <td>167.791388</td>\n",
              "      <td>2.164946</td>\n",
              "      <td>91.133441</td>\n",
              "      <td>7.074084</td>\n",
              "      <td>9.197104</td>\n",
              "    </tr>\n",
              "    <tr>\n",
              "      <th>min</th>\n",
              "      <td>0.013610</td>\n",
              "      <td>0.000000</td>\n",
              "      <td>1.253500</td>\n",
              "      <td>0.000000</td>\n",
              "      <td>0.385000</td>\n",
              "      <td>3.561000</td>\n",
              "      <td>2.900000</td>\n",
              "      <td>1.129600</td>\n",
              "      <td>1.000000</td>\n",
              "      <td>188.000000</td>\n",
              "      <td>12.600000</td>\n",
              "      <td>6.730000</td>\n",
              "      <td>2.883000</td>\n",
              "      <td>5.000000</td>\n",
              "    </tr>\n",
              "    <tr>\n",
              "      <th>25%</th>\n",
              "      <td>0.082045</td>\n",
              "      <td>0.000000</td>\n",
              "      <td>5.190000</td>\n",
              "      <td>0.000000</td>\n",
              "      <td>0.449000</td>\n",
              "      <td>5.885500</td>\n",
              "      <td>45.025000</td>\n",
              "      <td>2.100175</td>\n",
              "      <td>4.000000</td>\n",
              "      <td>279.000000</td>\n",
              "      <td>17.400000</td>\n",
              "      <td>375.377500</td>\n",
              "      <td>6.950000</td>\n",
              "      <td>17.025000</td>\n",
              "    </tr>\n",
              "    <tr>\n",
              "      <th>50%</th>\n",
              "      <td>0.256510</td>\n",
              "      <td>0.000000</td>\n",
              "      <td>9.690000</td>\n",
              "      <td>0.000000</td>\n",
              "      <td>0.538000</td>\n",
              "      <td>6.208500</td>\n",
              "      <td>77.500000</td>\n",
              "      <td>3.207450</td>\n",
              "      <td>5.000000</td>\n",
              "      <td>330.000000</td>\n",
              "      <td>19.050000</td>\n",
              "      <td>391.440000</td>\n",
              "      <td>11.360000</td>\n",
              "      <td>21.200000</td>\n",
              "    </tr>\n",
              "    <tr>\n",
              "      <th>75%</th>\n",
              "      <td>3.677083</td>\n",
              "      <td>12.500000</td>\n",
              "      <td>18.100000</td>\n",
              "      <td>0.000000</td>\n",
              "      <td>0.624000</td>\n",
              "      <td>6.623500</td>\n",
              "      <td>94.075000</td>\n",
              "      <td>5.188425</td>\n",
              "      <td>24.000000</td>\n",
              "      <td>666.000000</td>\n",
              "      <td>20.200000</td>\n",
              "      <td>396.225000</td>\n",
              "      <td>16.955000</td>\n",
              "      <td>25.000000</td>\n",
              "    </tr>\n",
              "    <tr>\n",
              "      <th>max</th>\n",
              "      <td>41.370330</td>\n",
              "      <td>90.000000</td>\n",
              "      <td>25.650000</td>\n",
              "      <td>1.000000</td>\n",
              "      <td>0.871000</td>\n",
              "      <td>8.780000</td>\n",
              "      <td>100.000000</td>\n",
              "      <td>12.126500</td>\n",
              "      <td>24.000000</td>\n",
              "      <td>666.000000</td>\n",
              "      <td>22.000000</td>\n",
              "      <td>396.900000</td>\n",
              "      <td>33.918500</td>\n",
              "      <td>50.000000</td>\n",
              "    </tr>\n",
              "  </tbody>\n",
              "</table>\n",
              "</div>"
            ],
            "text/plain": [
              "             CRIM          ZN       INDUS  ...           B       LSTAT        medv\n",
              "count  506.000000  506.000000  506.000000  ...  506.000000  506.000000  506.000000\n",
              "mean     3.375175   11.304348   11.118875  ...  356.715751   12.642073   22.532806\n",
              "std      6.908970   23.112644    6.809112  ...   91.133441    7.074084    9.197104\n",
              "min      0.013610    0.000000    1.253500  ...    6.730000    2.883000    5.000000\n",
              "25%      0.082045    0.000000    5.190000  ...  375.377500    6.950000   17.025000\n",
              "50%      0.256510    0.000000    9.690000  ...  391.440000   11.360000   21.200000\n",
              "75%      3.677083   12.500000   18.100000  ...  396.225000   16.955000   25.000000\n",
              "max     41.370330   90.000000   25.650000  ...  396.900000   33.918500   50.000000\n",
              "\n",
              "[8 rows x 14 columns]"
            ]
          },
          "metadata": {
            "tags": []
          },
          "execution_count": 21
        }
      ]
    },
    {
      "cell_type": "code",
      "metadata": {
        "id": "aUGGh6536-ut",
        "colab_type": "code",
        "colab": {
          "base_uri": "https://localhost:8080/",
          "height": 317
        },
        "outputId": "430d8ef8-c5e1-485a-d53f-8f5408e0e23b"
      },
      "source": [
        "df.describe()"
      ],
      "execution_count": 22,
      "outputs": [
        {
          "output_type": "execute_result",
          "data": {
            "text/html": [
              "<div>\n",
              "<style scoped>\n",
              "    .dataframe tbody tr th:only-of-type {\n",
              "        vertical-align: middle;\n",
              "    }\n",
              "\n",
              "    .dataframe tbody tr th {\n",
              "        vertical-align: top;\n",
              "    }\n",
              "\n",
              "    .dataframe thead th {\n",
              "        text-align: right;\n",
              "    }\n",
              "</style>\n",
              "<table border=\"1\" class=\"dataframe\">\n",
              "  <thead>\n",
              "    <tr style=\"text-align: right;\">\n",
              "      <th></th>\n",
              "      <th>CRIM</th>\n",
              "      <th>ZN</th>\n",
              "      <th>INDUS</th>\n",
              "      <th>CHAS</th>\n",
              "      <th>NOX</th>\n",
              "      <th>RM</th>\n",
              "      <th>AGE</th>\n",
              "      <th>DIS</th>\n",
              "      <th>RAD</th>\n",
              "      <th>TAX</th>\n",
              "      <th>PTRATIO</th>\n",
              "      <th>B</th>\n",
              "      <th>LSTAT</th>\n",
              "      <th>medv</th>\n",
              "    </tr>\n",
              "  </thead>\n",
              "  <tbody>\n",
              "    <tr>\n",
              "      <th>count</th>\n",
              "      <td>506.000000</td>\n",
              "      <td>506.000000</td>\n",
              "      <td>506.000000</td>\n",
              "      <td>506.000000</td>\n",
              "      <td>506.000000</td>\n",
              "      <td>506.000000</td>\n",
              "      <td>506.000000</td>\n",
              "      <td>506.000000</td>\n",
              "      <td>506.000000</td>\n",
              "      <td>506.000000</td>\n",
              "      <td>506.000000</td>\n",
              "      <td>506.000000</td>\n",
              "      <td>506.000000</td>\n",
              "      <td>506.000000</td>\n",
              "    </tr>\n",
              "    <tr>\n",
              "      <th>mean</th>\n",
              "      <td>3.375175</td>\n",
              "      <td>11.304348</td>\n",
              "      <td>11.118875</td>\n",
              "      <td>0.069170</td>\n",
              "      <td>0.554695</td>\n",
              "      <td>6.284634</td>\n",
              "      <td>68.574901</td>\n",
              "      <td>3.795043</td>\n",
              "      <td>9.549407</td>\n",
              "      <td>407.794466</td>\n",
              "      <td>18.455534</td>\n",
              "      <td>356.715751</td>\n",
              "      <td>12.642073</td>\n",
              "      <td>22.532806</td>\n",
              "    </tr>\n",
              "    <tr>\n",
              "      <th>std</th>\n",
              "      <td>6.908970</td>\n",
              "      <td>23.112644</td>\n",
              "      <td>6.809112</td>\n",
              "      <td>0.253994</td>\n",
              "      <td>0.115878</td>\n",
              "      <td>0.702617</td>\n",
              "      <td>28.148861</td>\n",
              "      <td>2.105710</td>\n",
              "      <td>8.707259</td>\n",
              "      <td>167.791388</td>\n",
              "      <td>2.164946</td>\n",
              "      <td>91.133441</td>\n",
              "      <td>7.074084</td>\n",
              "      <td>9.197104</td>\n",
              "    </tr>\n",
              "    <tr>\n",
              "      <th>min</th>\n",
              "      <td>0.013610</td>\n",
              "      <td>0.000000</td>\n",
              "      <td>1.253500</td>\n",
              "      <td>0.000000</td>\n",
              "      <td>0.385000</td>\n",
              "      <td>3.561000</td>\n",
              "      <td>2.900000</td>\n",
              "      <td>1.129600</td>\n",
              "      <td>1.000000</td>\n",
              "      <td>188.000000</td>\n",
              "      <td>12.600000</td>\n",
              "      <td>6.730000</td>\n",
              "      <td>2.883000</td>\n",
              "      <td>5.000000</td>\n",
              "    </tr>\n",
              "    <tr>\n",
              "      <th>25%</th>\n",
              "      <td>0.082045</td>\n",
              "      <td>0.000000</td>\n",
              "      <td>5.190000</td>\n",
              "      <td>0.000000</td>\n",
              "      <td>0.449000</td>\n",
              "      <td>5.885500</td>\n",
              "      <td>45.025000</td>\n",
              "      <td>2.100175</td>\n",
              "      <td>4.000000</td>\n",
              "      <td>279.000000</td>\n",
              "      <td>17.400000</td>\n",
              "      <td>375.377500</td>\n",
              "      <td>6.950000</td>\n",
              "      <td>17.025000</td>\n",
              "    </tr>\n",
              "    <tr>\n",
              "      <th>50%</th>\n",
              "      <td>0.256510</td>\n",
              "      <td>0.000000</td>\n",
              "      <td>9.690000</td>\n",
              "      <td>0.000000</td>\n",
              "      <td>0.538000</td>\n",
              "      <td>6.208500</td>\n",
              "      <td>77.500000</td>\n",
              "      <td>3.207450</td>\n",
              "      <td>5.000000</td>\n",
              "      <td>330.000000</td>\n",
              "      <td>19.050000</td>\n",
              "      <td>391.440000</td>\n",
              "      <td>11.360000</td>\n",
              "      <td>21.200000</td>\n",
              "    </tr>\n",
              "    <tr>\n",
              "      <th>75%</th>\n",
              "      <td>3.677083</td>\n",
              "      <td>12.500000</td>\n",
              "      <td>18.100000</td>\n",
              "      <td>0.000000</td>\n",
              "      <td>0.624000</td>\n",
              "      <td>6.623500</td>\n",
              "      <td>94.075000</td>\n",
              "      <td>5.188425</td>\n",
              "      <td>24.000000</td>\n",
              "      <td>666.000000</td>\n",
              "      <td>20.200000</td>\n",
              "      <td>396.225000</td>\n",
              "      <td>16.955000</td>\n",
              "      <td>25.000000</td>\n",
              "    </tr>\n",
              "    <tr>\n",
              "      <th>max</th>\n",
              "      <td>41.370330</td>\n",
              "      <td>90.000000</td>\n",
              "      <td>25.650000</td>\n",
              "      <td>1.000000</td>\n",
              "      <td>0.871000</td>\n",
              "      <td>8.780000</td>\n",
              "      <td>100.000000</td>\n",
              "      <td>12.126500</td>\n",
              "      <td>24.000000</td>\n",
              "      <td>666.000000</td>\n",
              "      <td>22.000000</td>\n",
              "      <td>396.900000</td>\n",
              "      <td>33.918500</td>\n",
              "      <td>50.000000</td>\n",
              "    </tr>\n",
              "  </tbody>\n",
              "</table>\n",
              "</div>"
            ],
            "text/plain": [
              "             CRIM          ZN       INDUS  ...           B       LSTAT        medv\n",
              "count  506.000000  506.000000  506.000000  ...  506.000000  506.000000  506.000000\n",
              "mean     3.375175   11.304348   11.118875  ...  356.715751   12.642073   22.532806\n",
              "std      6.908970   23.112644    6.809112  ...   91.133441    7.074084    9.197104\n",
              "min      0.013610    0.000000    1.253500  ...    6.730000    2.883000    5.000000\n",
              "25%      0.082045    0.000000    5.190000  ...  375.377500    6.950000   17.025000\n",
              "50%      0.256510    0.000000    9.690000  ...  391.440000   11.360000   21.200000\n",
              "75%      3.677083   12.500000   18.100000  ...  396.225000   16.955000   25.000000\n",
              "max     41.370330   90.000000   25.650000  ...  396.900000   33.918500   50.000000\n",
              "\n",
              "[8 rows x 14 columns]"
            ]
          },
          "metadata": {
            "tags": []
          },
          "execution_count": 22
        }
      ]
    },
    {
      "cell_type": "markdown",
      "metadata": {
        "id": "sSS_WXisHeXs",
        "colab_type": "text"
      },
      "source": [
        "**Let us split the data for training and testing**\n",
        "\n",
        "We are using **train_test_split** method from **sklearn.model_selection**, which shuffles and split the dataset into training and testing, where the first argument contains the independent features and the second argument contains the dependent feature(i.e. Outcome), the **test_size** is 30% of the original dataset and the **random_state** is being used by the random no. generator, which prevents shuffling of the instances each time we run the code."
      ]
    },
    {
      "cell_type": "code",
      "metadata": {
        "id": "9r8RHSDSH9Nh",
        "colab_type": "code",
        "colab": {}
      },
      "source": [
        "x=df[['RM']]\n",
        "y=df[['medv']]\n",
        "\n",
        "#Splitting the dataset into 70/30 Ratio\n",
        "X_train, X_test, y_train, y_test = train_test_split(x,y,test_size=0.3,random_state=42)"
      ],
      "execution_count": 0,
      "outputs": []
    },
    {
      "cell_type": "markdown",
      "metadata": {
        "id": "5eYBt911gOxt",
        "colab_type": "text"
      },
      "source": [
        "**Implementing Simple Linear Regression**"
      ]
    },
    {
      "cell_type": "code",
      "metadata": {
        "id": "SM00eeN_WHOx",
        "colab_type": "code",
        "outputId": "9112a328-d488-435e-f0c6-46a7e0f1819b",
        "colab": {
          "base_uri": "https://localhost:8080/",
          "height": 119
        }
      },
      "source": [
        "lr = LinearRegression() \n",
        "lr.fit(X_train, y_train)\n",
        "\n",
        "#Print Intercept Value\n",
        "print(\"Intercept: \", lr.intercept_)\n",
        "\n",
        "#Print Linear Coefficient\n",
        "print(\"Coefficients :: \",lr.coef_)\n",
        "\n",
        "y_pred = lr.predict(X_test) \n",
        "\n",
        "\n",
        "print(X_train.shape)\n",
        "print(X_test.shape)\n",
        "print(y_train.shape)\n",
        "print(y_test.shape)"
      ],
      "execution_count": 69,
      "outputs": [
        {
          "output_type": "stream",
          "text": [
            "Intercept:  [-34.66230744]\n",
            "Coefficients ::  [[9.1181022]]\n",
            "(354, 1)\n",
            "(152, 1)\n",
            "(354, 1)\n",
            "(152, 1)\n"
          ],
          "name": "stdout"
        }
      ]
    },
    {
      "cell_type": "code",
      "metadata": {
        "id": "IuLqAQ7lp8Go",
        "colab_type": "code",
        "colab": {
          "base_uri": "https://localhost:8080/",
          "height": 204
        },
        "outputId": "5f8aecf6-2051-4c3d-81c2-87cf088bbfa5"
      },
      "source": [
        "print(\"Predicted values:\\n\", y_pred[:4])\n",
        "print(\"Actual values:\\n\", y[:4])\n"
      ],
      "execution_count": 70,
      "outputs": [
        {
          "output_type": "stream",
          "text": [
            "Predicted values:\n",
            " [[23.83943626]\n",
            " [26.95782721]\n",
            " [19.89129801]\n",
            " [20.63898239]]\n",
            "Actual values:\n",
            "    medv\n",
            "0  24.0\n",
            "1  21.6\n",
            "2  34.7\n",
            "3  33.4\n"
          ],
          "name": "stdout"
        }
      ]
    },
    {
      "cell_type": "code",
      "metadata": {
        "id": "-hP4AGL2XiUH",
        "colab_type": "code",
        "outputId": "63c90bd3-5f3c-413d-813c-1e0d8b5c7ab4",
        "colab": {
          "base_uri": "https://localhost:8080/",
          "height": 102
        }
      },
      "source": [
        "print(\"Mean Absolute Error:\",metrics.mean_absolute_error(y_test ,y_pred))\n",
        "print(\"Mean Squared Error:\",metrics.mean_squared_error(y_test ,y_pred))\n",
        "print(\"Root Mean Square Error:\",np.sqrt(metrics.mean_squared_error(y_test, y_pred)))\n",
        "print(\"Explained Variance Score:\",metrics.explained_variance_score(y_test, y_pred))\n",
        "print(\"R2_Score: %2f\" %r2_score(y_test ,y_pred))\n"
      ],
      "execution_count": 25,
      "outputs": [
        {
          "output_type": "stream",
          "text": [
            "Mean Absolute Error: 4.314224104076755\n",
            "Mean Squared Error: 40.35144969787305\n",
            "Root Mean Square Error: 6.352279094771659\n",
            "Explained Variance Score: 0.46022631007164083\n",
            "R2_Score: 0.458465\n"
          ],
          "name": "stdout"
        }
      ]
    },
    {
      "cell_type": "markdown",
      "metadata": {
        "id": "679d7e3l_xO4",
        "colab_type": "text"
      },
      "source": [
        "**From above, you can see different Regression Metrics such as MAE, MSE, etc**\n",
        "\n",
        "* **Mean Absolute Error:** It is the average of the difference between the Original Values and the Predicted Values \n",
        "\n",
        "* **Mean Squared Error:** It takes the average of the square of the difference between the original values and the predicted values\n",
        "\n",
        "* **RMSE:** It is a very popular metric to evaluate a model. It is similar to Mean Squared Error, however, we just take the square root of the result of MSE\n",
        "\n",
        "* **R2_Score:** It is the coefficient of determination.\n",
        "Best possible score is 1.0 and it can be negative (because the model can be arbitrarily worse). A constant model that always predicts the expected value of y, disregarding the input features, would get a R^2 score of 0.0.\n",
        "\n",
        "**Note**: If you want to learn more about the Regression Metrics [Click Here](https://scikit-learn.org/stable/modules/model_evaluation.html)"
      ]
    },
    {
      "cell_type": "markdown",
      "metadata": {
        "id": "rG6-zXPPFT6q",
        "colab_type": "text"
      },
      "source": [
        "**Adjusted R-Squared**\n",
        "\n",
        "When we add new features to the model, the R-Squared Value either increases or remains the same. R-Squared does not change for adding features that add no value to the model. An improved version of R-Squared is the Adjusted R-Squared. "
      ]
    },
    {
      "cell_type": "code",
      "metadata": {
        "id": "rJyVCO4xRHuE",
        "colab_type": "code",
        "colab": {}
      },
      "source": [
        "def AdjustedRSquare(lr,x,y):\n",
        "  Ybat = lr.predict(x)\n",
        "  n,k = x.shape\n",
        "  sse=np.sum(np.square(Ybat-y),axis=0)\n",
        "  sst=np.sum(np.square(y-np.mean(y)),axis=0)\n",
        "  R2 = 1-sse/sst\n",
        "  adjR2= R2 - (1-R2)*(float(k)/(n-k-1))\n",
        "  return adjR2,R2\n",
        "  "
      ],
      "execution_count": 0,
      "outputs": []
    },
    {
      "cell_type": "code",
      "metadata": {
        "id": "2MfLDuutSPma",
        "colab_type": "code",
        "colab": {
          "base_uri": "https://localhost:8080/",
          "height": 68
        },
        "outputId": "fcedc7e3-63ec-4b67-97fc-75b61f0917a4"
      },
      "source": [
        "lr.adjR2, lr.R2 = AdjustedRSquare(lr,X_train,y_train)\n",
        "print(lr.adjR2, lr.R2)"
      ],
      "execution_count": 27,
      "outputs": [
        {
          "output_type": "stream",
          "text": [
            "medv    0.486434\n",
            "dtype: float64 medv    0.487889\n",
            "dtype: float64\n"
          ],
          "name": "stdout"
        }
      ]
    },
    {
      "cell_type": "markdown",
      "metadata": {
        "id": "QL0czuLOFIe2",
        "colab_type": "text"
      },
      "source": [
        "**Implementing Multiple Linear Regression**"
      ]
    },
    {
      "cell_type": "code",
      "metadata": {
        "id": "LPENTdBQDni2",
        "colab_type": "code",
        "colab": {}
      },
      "source": [
        "x=df.iloc[:, :13]\n",
        "y=df[['medv']]\n",
        "\n",
        "#Splitting the dataset into 70/30 Ratio\n",
        "X_train, X_test, y_train, y_test = train_test_split(x,y,test_size=0.3,random_state=42)\n",
        "\n",
        "lr = LinearRegression(normalize=True) \n",
        "lr.fit(X_train, y_train)\n",
        "\n",
        "y_pred = lr.predict(X_test) \n"
      ],
      "execution_count": 0,
      "outputs": []
    },
    {
      "cell_type": "code",
      "metadata": {
        "id": "3aWJNwespTFp",
        "colab_type": "code",
        "colab": {
          "base_uri": "https://localhost:8080/",
          "height": 204
        },
        "outputId": "ca4bfe3f-55f6-4578-9def-dcaa980c2436"
      },
      "source": [
        "print(\"Predicted values:\\n\", y_pred[:4])\n",
        "print(\"Actual values:\\n\", y[:4])\n"
      ],
      "execution_count": 63,
      "outputs": [
        {
          "output_type": "stream",
          "text": [
            "Predicted values:\n",
            " [[28.70063702]\n",
            " [36.53973361]\n",
            " [15.5401217 ]\n",
            " [25.40288581]]\n",
            "Actual values:\n",
            "    medv\n",
            "0  24.0\n",
            "1  21.6\n",
            "2  34.7\n",
            "3  33.4\n"
          ],
          "name": "stdout"
        }
      ]
    },
    {
      "cell_type": "code",
      "metadata": {
        "id": "p5w3BiC9czTD",
        "colab_type": "code",
        "outputId": "0309e966-cb29-4048-f276-8e2044cfa483",
        "colab": {
          "base_uri": "https://localhost:8080/",
          "height": 85
        }
      },
      "source": [
        "print(\"MAE_Score:\",metrics.mean_absolute_error(y_test ,y_pred))\n",
        "print(\"MSE_Score:\",metrics.mean_squared_error(y_test ,y_pred))\n",
        "print(\"Explained Variance\",metrics.explained_variance_score(y_test, y_pred))\n",
        "print(\"RMSE\",np.sqrt(metrics.mean_squared_error(y_test, y_pred)))"
      ],
      "execution_count": 64,
      "outputs": [
        {
          "output_type": "stream",
          "text": [
            "MAE_Score: 3.1513288727936875\n",
            "MSE_Score: 21.22240619190844\n",
            "Explained Variance 0.7152660422397425\n",
            "RMSE 4.606778287687442\n"
          ],
          "name": "stdout"
        }
      ]
    },
    {
      "cell_type": "code",
      "metadata": {
        "id": "n9WuKRpfP81R",
        "colab_type": "code",
        "colab": {
          "base_uri": "https://localhost:8080/",
          "height": 51
        },
        "outputId": "a98c45fc-6888-46aa-a38d-b91f103c5c3c"
      },
      "source": [
        "print(lr.score(X_train,y_train)) # R Square Value from the trained model\n",
        "print(lr.score(X_test,y_test)) # R Square value from the test set"
      ],
      "execution_count": 65,
      "outputs": [
        {
          "output_type": "stream",
          "text": [
            "0.7426056268089254\n",
            "0.7151855518795494\n"
          ],
          "name": "stdout"
        }
      ]
    },
    {
      "cell_type": "code",
      "metadata": {
        "id": "JrIuxrVKTsYQ",
        "colab_type": "code",
        "colab": {
          "base_uri": "https://localhost:8080/",
          "height": 68
        },
        "outputId": "33654c9e-5b46-4dc6-c2ba-fb88f71243ee"
      },
      "source": [
        "lr.adjR2, lr.R2 = AdjustedRSquare(lr,X_train,y_train)\n",
        "print(lr.adjR2, lr.R2)"
      ],
      "execution_count": 66,
      "outputs": [
        {
          "output_type": "stream",
          "text": [
            "medv    0.732764\n",
            "dtype: float64 medv    0.742606\n",
            "dtype: float64\n"
          ],
          "name": "stdout"
        }
      ]
    },
    {
      "cell_type": "markdown",
      "metadata": {
        "id": "tzpymExyHVYD",
        "colab_type": "text"
      },
      "source": [
        "**Re-analysing the prepared data for selecting important features**\n",
        "\n",
        "Let us visualise the correlation. Correlation lies between -1 to 1, where values near to 1 shows high positive correlation and values near -1 shows high negative correlation. Visualising the correlation helps us in selecting important features for prediction,as the feautures having low correlation with the dependent variable can be dropped as they are not effecting the predictions.\n",
        "\n",
        "This feature selection enhance our modelling, as training the model becomes faster since we have reduced the size of the data, and now our model are less prone to overfit.\n"
      ]
    },
    {
      "cell_type": "code",
      "metadata": {
        "id": "iwJdW4Z1F2Qp",
        "colab_type": "code",
        "outputId": "c15fe54e-07f4-4f0c-d434-3887cd79124e",
        "colab": {
          "base_uri": "https://localhost:8080/",
          "height": 483
        }
      },
      "source": [
        "corr = df.corr()\n",
        "corr"
      ],
      "execution_count": 32,
      "outputs": [
        {
          "output_type": "execute_result",
          "data": {
            "text/html": [
              "<div>\n",
              "<style scoped>\n",
              "    .dataframe tbody tr th:only-of-type {\n",
              "        vertical-align: middle;\n",
              "    }\n",
              "\n",
              "    .dataframe tbody tr th {\n",
              "        vertical-align: top;\n",
              "    }\n",
              "\n",
              "    .dataframe thead th {\n",
              "        text-align: right;\n",
              "    }\n",
              "</style>\n",
              "<table border=\"1\" class=\"dataframe\">\n",
              "  <thead>\n",
              "    <tr style=\"text-align: right;\">\n",
              "      <th></th>\n",
              "      <th>CRIM</th>\n",
              "      <th>ZN</th>\n",
              "      <th>INDUS</th>\n",
              "      <th>CHAS</th>\n",
              "      <th>NOX</th>\n",
              "      <th>RM</th>\n",
              "      <th>AGE</th>\n",
              "      <th>DIS</th>\n",
              "      <th>RAD</th>\n",
              "      <th>TAX</th>\n",
              "      <th>PTRATIO</th>\n",
              "      <th>B</th>\n",
              "      <th>LSTAT</th>\n",
              "      <th>medv</th>\n",
              "    </tr>\n",
              "  </thead>\n",
              "  <tbody>\n",
              "    <tr>\n",
              "      <th>CRIM</th>\n",
              "      <td>1.000000</td>\n",
              "      <td>-0.233594</td>\n",
              "      <td>0.475860</td>\n",
              "      <td>-0.060170</td>\n",
              "      <td>0.488860</td>\n",
              "      <td>-0.270109</td>\n",
              "      <td>0.404499</td>\n",
              "      <td>-0.435493</td>\n",
              "      <td>0.721364</td>\n",
              "      <td>0.676877</td>\n",
              "      <td>0.333114</td>\n",
              "      <td>-0.438922</td>\n",
              "      <td>0.530853</td>\n",
              "      <td>-0.432679</td>\n",
              "    </tr>\n",
              "    <tr>\n",
              "      <th>ZN</th>\n",
              "      <td>-0.233594</td>\n",
              "      <td>1.000000</td>\n",
              "      <td>-0.536485</td>\n",
              "      <td>-0.042384</td>\n",
              "      <td>-0.518085</td>\n",
              "      <td>0.311213</td>\n",
              "      <td>-0.571114</td>\n",
              "      <td>0.666488</td>\n",
              "      <td>-0.313141</td>\n",
              "      <td>-0.315741</td>\n",
              "      <td>-0.391844</td>\n",
              "      <td>0.176215</td>\n",
              "      <td>-0.415929</td>\n",
              "      <td>0.359325</td>\n",
              "    </tr>\n",
              "    <tr>\n",
              "      <th>INDUS</th>\n",
              "      <td>0.475860</td>\n",
              "      <td>-0.536485</td>\n",
              "      <td>1.000000</td>\n",
              "      <td>0.064179</td>\n",
              "      <td>0.767492</td>\n",
              "      <td>-0.391012</td>\n",
              "      <td>0.646345</td>\n",
              "      <td>-0.709959</td>\n",
              "      <td>0.601249</td>\n",
              "      <td>0.717923</td>\n",
              "      <td>0.383282</td>\n",
              "      <td>-0.360067</td>\n",
              "      <td>0.607869</td>\n",
              "      <td>-0.483373</td>\n",
              "    </tr>\n",
              "    <tr>\n",
              "      <th>CHAS</th>\n",
              "      <td>-0.060170</td>\n",
              "      <td>-0.042384</td>\n",
              "      <td>0.064179</td>\n",
              "      <td>1.000000</td>\n",
              "      <td>0.091203</td>\n",
              "      <td>0.091251</td>\n",
              "      <td>0.086518</td>\n",
              "      <td>-0.099176</td>\n",
              "      <td>-0.007368</td>\n",
              "      <td>-0.035025</td>\n",
              "      <td>-0.121515</td>\n",
              "      <td>0.048750</td>\n",
              "      <td>-0.052955</td>\n",
              "      <td>0.175260</td>\n",
              "    </tr>\n",
              "    <tr>\n",
              "      <th>NOX</th>\n",
              "      <td>0.488860</td>\n",
              "      <td>-0.518085</td>\n",
              "      <td>0.767492</td>\n",
              "      <td>0.091203</td>\n",
              "      <td>1.000000</td>\n",
              "      <td>-0.302188</td>\n",
              "      <td>0.731470</td>\n",
              "      <td>-0.769230</td>\n",
              "      <td>0.611441</td>\n",
              "      <td>0.669733</td>\n",
              "      <td>0.188933</td>\n",
              "      <td>-0.380340</td>\n",
              "      <td>0.593863</td>\n",
              "      <td>-0.427321</td>\n",
              "    </tr>\n",
              "    <tr>\n",
              "      <th>RM</th>\n",
              "      <td>-0.270109</td>\n",
              "      <td>0.311213</td>\n",
              "      <td>-0.391012</td>\n",
              "      <td>0.091251</td>\n",
              "      <td>-0.302188</td>\n",
              "      <td>1.000000</td>\n",
              "      <td>-0.240265</td>\n",
              "      <td>0.205246</td>\n",
              "      <td>-0.209847</td>\n",
              "      <td>-0.290696</td>\n",
              "      <td>-0.355501</td>\n",
              "      <td>0.128194</td>\n",
              "      <td>-0.611228</td>\n",
              "      <td>0.695360</td>\n",
              "    </tr>\n",
              "    <tr>\n",
              "      <th>AGE</th>\n",
              "      <td>0.404499</td>\n",
              "      <td>-0.571114</td>\n",
              "      <td>0.646345</td>\n",
              "      <td>0.086518</td>\n",
              "      <td>0.731470</td>\n",
              "      <td>-0.240265</td>\n",
              "      <td>1.000000</td>\n",
              "      <td>-0.747881</td>\n",
              "      <td>0.456022</td>\n",
              "      <td>0.506270</td>\n",
              "      <td>0.261515</td>\n",
              "      <td>-0.273711</td>\n",
              "      <td>0.605316</td>\n",
              "      <td>-0.376955</td>\n",
              "    </tr>\n",
              "    <tr>\n",
              "      <th>DIS</th>\n",
              "      <td>-0.435493</td>\n",
              "      <td>0.666488</td>\n",
              "      <td>-0.709959</td>\n",
              "      <td>-0.099176</td>\n",
              "      <td>-0.769230</td>\n",
              "      <td>0.205246</td>\n",
              "      <td>-0.747881</td>\n",
              "      <td>1.000000</td>\n",
              "      <td>-0.494588</td>\n",
              "      <td>-0.534339</td>\n",
              "      <td>-0.232471</td>\n",
              "      <td>0.291663</td>\n",
              "      <td>-0.499092</td>\n",
              "      <td>0.249929</td>\n",
              "    </tr>\n",
              "    <tr>\n",
              "      <th>RAD</th>\n",
              "      <td>0.721364</td>\n",
              "      <td>-0.313141</td>\n",
              "      <td>0.601249</td>\n",
              "      <td>-0.007368</td>\n",
              "      <td>0.611441</td>\n",
              "      <td>-0.209847</td>\n",
              "      <td>0.456022</td>\n",
              "      <td>-0.494588</td>\n",
              "      <td>1.000000</td>\n",
              "      <td>0.915960</td>\n",
              "      <td>0.464741</td>\n",
              "      <td>-0.444439</td>\n",
              "      <td>0.488911</td>\n",
              "      <td>-0.381626</td>\n",
              "    </tr>\n",
              "    <tr>\n",
              "      <th>TAX</th>\n",
              "      <td>0.676877</td>\n",
              "      <td>-0.315741</td>\n",
              "      <td>0.717923</td>\n",
              "      <td>-0.035025</td>\n",
              "      <td>0.669733</td>\n",
              "      <td>-0.290696</td>\n",
              "      <td>0.506270</td>\n",
              "      <td>-0.534339</td>\n",
              "      <td>0.915960</td>\n",
              "      <td>1.000000</td>\n",
              "      <td>0.460876</td>\n",
              "      <td>-0.444205</td>\n",
              "      <td>0.544563</td>\n",
              "      <td>-0.467799</td>\n",
              "    </tr>\n",
              "    <tr>\n",
              "      <th>PTRATIO</th>\n",
              "      <td>0.333114</td>\n",
              "      <td>-0.391844</td>\n",
              "      <td>0.383282</td>\n",
              "      <td>-0.121515</td>\n",
              "      <td>0.188933</td>\n",
              "      <td>-0.355501</td>\n",
              "      <td>0.261515</td>\n",
              "      <td>-0.232471</td>\n",
              "      <td>0.464741</td>\n",
              "      <td>0.460876</td>\n",
              "      <td>1.000000</td>\n",
              "      <td>-0.177328</td>\n",
              "      <td>0.374381</td>\n",
              "      <td>-0.507787</td>\n",
              "    </tr>\n",
              "    <tr>\n",
              "      <th>B</th>\n",
              "      <td>-0.438922</td>\n",
              "      <td>0.176215</td>\n",
              "      <td>-0.360067</td>\n",
              "      <td>0.048750</td>\n",
              "      <td>-0.380340</td>\n",
              "      <td>0.128194</td>\n",
              "      <td>-0.273711</td>\n",
              "      <td>0.291663</td>\n",
              "      <td>-0.444439</td>\n",
              "      <td>-0.444205</td>\n",
              "      <td>-0.177328</td>\n",
              "      <td>1.000000</td>\n",
              "      <td>-0.367212</td>\n",
              "      <td>0.333600</td>\n",
              "    </tr>\n",
              "    <tr>\n",
              "      <th>LSTAT</th>\n",
              "      <td>0.530853</td>\n",
              "      <td>-0.415929</td>\n",
              "      <td>0.607869</td>\n",
              "      <td>-0.052955</td>\n",
              "      <td>0.593863</td>\n",
              "      <td>-0.611228</td>\n",
              "      <td>0.605316</td>\n",
              "      <td>-0.499092</td>\n",
              "      <td>0.488911</td>\n",
              "      <td>0.544563</td>\n",
              "      <td>0.374381</td>\n",
              "      <td>-0.367212</td>\n",
              "      <td>1.000000</td>\n",
              "      <td>-0.739310</td>\n",
              "    </tr>\n",
              "    <tr>\n",
              "      <th>medv</th>\n",
              "      <td>-0.432679</td>\n",
              "      <td>0.359325</td>\n",
              "      <td>-0.483373</td>\n",
              "      <td>0.175260</td>\n",
              "      <td>-0.427321</td>\n",
              "      <td>0.695360</td>\n",
              "      <td>-0.376955</td>\n",
              "      <td>0.249929</td>\n",
              "      <td>-0.381626</td>\n",
              "      <td>-0.467799</td>\n",
              "      <td>-0.507787</td>\n",
              "      <td>0.333600</td>\n",
              "      <td>-0.739310</td>\n",
              "      <td>1.000000</td>\n",
              "    </tr>\n",
              "  </tbody>\n",
              "</table>\n",
              "</div>"
            ],
            "text/plain": [
              "             CRIM        ZN     INDUS  ...         B     LSTAT      medv\n",
              "CRIM     1.000000 -0.233594  0.475860  ... -0.438922  0.530853 -0.432679\n",
              "ZN      -0.233594  1.000000 -0.536485  ...  0.176215 -0.415929  0.359325\n",
              "INDUS    0.475860 -0.536485  1.000000  ... -0.360067  0.607869 -0.483373\n",
              "CHAS    -0.060170 -0.042384  0.064179  ...  0.048750 -0.052955  0.175260\n",
              "NOX      0.488860 -0.518085  0.767492  ... -0.380340  0.593863 -0.427321\n",
              "RM      -0.270109  0.311213 -0.391012  ...  0.128194 -0.611228  0.695360\n",
              "AGE      0.404499 -0.571114  0.646345  ... -0.273711  0.605316 -0.376955\n",
              "DIS     -0.435493  0.666488 -0.709959  ...  0.291663 -0.499092  0.249929\n",
              "RAD      0.721364 -0.313141  0.601249  ... -0.444439  0.488911 -0.381626\n",
              "TAX      0.676877 -0.315741  0.717923  ... -0.444205  0.544563 -0.467799\n",
              "PTRATIO  0.333114 -0.391844  0.383282  ... -0.177328  0.374381 -0.507787\n",
              "B       -0.438922  0.176215 -0.360067  ...  1.000000 -0.367212  0.333600\n",
              "LSTAT    0.530853 -0.415929  0.607869  ... -0.367212  1.000000 -0.739310\n",
              "medv    -0.432679  0.359325 -0.483373  ...  0.333600 -0.739310  1.000000\n",
              "\n",
              "[14 rows x 14 columns]"
            ]
          },
          "metadata": {
            "tags": []
          },
          "execution_count": 32
        }
      ]
    },
    {
      "cell_type": "code",
      "metadata": {
        "id": "Qdwk9BwuF1n7",
        "colab_type": "code",
        "outputId": "0b821577-aed5-4747-c475-0bbaae44d979",
        "colab": {
          "base_uri": "https://localhost:8080/",
          "height": 487
        }
      },
      "source": [
        "fig, ax = plt.subplots(figsize = (15, 8))\n",
        "sns.heatmap(corr, annot = True)\n",
        "plt.show()"
      ],
      "execution_count": 33,
      "outputs": [
        {
          "output_type": "display_data",
          "data": {
            "image/png": "[encoded data removed]",
            "text/plain": [
              "<Figure size 1080x576 with 2 Axes>"
            ]
          },
          "metadata": {
            "tags": []
          }
        }
      ]
    },
    {
      "cell_type": "markdown",
      "metadata": {
        "id": "r5DciApuIcMO",
        "colab_type": "text"
      },
      "source": [
        "**From the above heatmap we can easily tell that the LSTAT feature has a very high correlation with the target variable.**\n",
        "\n",
        "Also, if 2 independent features show high correlation, we can just keep one of them as both are revealing same type of information, for ex, in the above heatmap we can see that Age and DIS are showing high correlation. So we can just use the Age column and leave the DIS column."
      ]
    },
    {
      "cell_type": "markdown",
      "metadata": {
        "id": "dfpdggQKik46",
        "colab_type": "text"
      },
      "source": [
        "**Applying Polynomial Regression on Boston Housing Datset**"
      ]
    },
    {
      "cell_type": "code",
      "metadata": {
        "id": "mruhYByPigCz",
        "colab_type": "code",
        "colab": {}
      },
      "source": [
        "x=df[['CRIM','ZN','AGE','NOX','CHAS','RM','RAD','TAX','PTRATIO','B']]\n",
        "y=df[['medv']]\n",
        "\n",
        "\n",
        "poly = PolynomialFeatures(2)\n",
        "X_poly = poly.fit_transform(x)"
      ],
      "execution_count": 0,
      "outputs": []
    },
    {
      "cell_type": "code",
      "metadata": {
        "id": "_sZ4RC65iqvJ",
        "colab_type": "code",
        "colab": {
          "base_uri": "https://localhost:8080/",
          "height": 323
        },
        "outputId": "8650f2b7-87ca-4a4c-bfa0-ddbeb30aa37e"
      },
      "source": [
        "slm_poly = LinearRegression()\n",
        "slm_poly.fit(X_poly, y)\n",
        "print(\"Coefficient:\", slm_poly.coef_,\"\\nIntercept:\", slm_poly.intercept_)\n"
      ],
      "execution_count": 35,
      "outputs": [
        {
          "output_type": "stream",
          "text": [
            "Coefficient: [[ 1.81798070e+08 -1.31983001e+01  7.10685090e-02  2.53092341e-01\n",
            "   3.22217979e+02  3.90552192e+01  6.20805146e-01  7.35300120e+00\n",
            "  -3.30591204e-01  4.85889965e+00  1.06180234e-01  1.38095915e-02\n",
            "   2.34748629e-02 -6.71770524e-03 -2.92444680e+00  2.79777123e+00\n",
            "   8.62446533e-02 -7.94090901e-01  4.81161653e-02  7.43233691e-02\n",
            "  -3.82056879e-04 -1.02591652e-04 -4.60691335e-04 -8.05818282e-01\n",
            "  -8.43755420e-02  5.74871400e-03 -1.16633175e-02  2.32540378e-04\n",
            "  -4.44930094e-04  6.16617506e-04 -7.89697358e-05 -3.22852369e-01\n",
            "  -3.39902069e-02 -9.53587133e-03  1.81528113e-02 -5.89846061e-04\n",
            "   8.44458311e-03 -3.94645742e-04 -1.31585231e+02 -8.40612627e+01\n",
            "  -5.49846624e+00 -3.06935354e+00  2.46279820e-01 -8.83133468e+00\n",
            "  -5.08607919e-02  3.90552184e+01 -4.36405959e+00 -7.57470166e-01\n",
            "   8.76363286e-02 -1.52112775e+00  2.64669887e-03  1.44318631e+00\n",
            "  -3.82001748e-01  3.82398070e-03 -4.04155323e-01  2.46874552e-03\n",
            "  -1.22846246e-01  5.65367672e-03 -1.83122536e-01 -2.60160914e-03\n",
            "   3.84370682e-05  3.92408355e-03  1.82199837e-04  5.51183274e-02\n",
            "  -3.45144097e-03 -6.22023069e-05]] \n",
            "Intercept: [-1.81798189e+08]\n"
          ],
          "name": "stdout"
        }
      ]
    },
    {
      "cell_type": "code",
      "metadata": {
        "id": "sImjwYKXirdD",
        "colab_type": "code",
        "colab": {
          "base_uri": "https://localhost:8080/",
          "height": 204
        },
        "outputId": "8a68d9cb-35b6-431c-e0b4-2f1e0dd01f24"
      },
      "source": [
        "predict_poly = slm_poly.predict(X_poly)\n",
        "print(\"Predicted values:\\n\", predict_poly[:4])\n",
        "print(\"Actual values:\\n\", y[:4])\n"
      ],
      "execution_count": 36,
      "outputs": [
        {
          "output_type": "stream",
          "text": [
            "Predicted values:\n",
            " [[23.92623931]\n",
            " [23.62374616]\n",
            " [33.53205359]\n",
            " [33.11774766]]\n",
            "Actual values:\n",
            "    medv\n",
            "0  24.0\n",
            "1  21.6\n",
            "2  34.7\n",
            "3  33.4\n"
          ],
          "name": "stdout"
        }
      ]
    },
    {
      "cell_type": "code",
      "metadata": {
        "id": "6AoAWOvziu8M",
        "colab_type": "code",
        "colab": {
          "base_uri": "https://localhost:8080/",
          "height": 51
        },
        "outputId": "9c2c4dd1-a000-431a-f4f9-8e468113e8d7"
      },
      "source": [
        "print(\"RMSE:\",np.sqrt(mean_squared_error(y, predict_poly)))\n",
        "print('Explained Variance score: %.2f' % r2_score(y, predict_poly))\n"
      ],
      "execution_count": 37,
      "outputs": [
        {
          "output_type": "stream",
          "text": [
            "RMSE: 3.4192523685386678\n",
            "Explained Variance score: 0.86\n"
          ],
          "name": "stdout"
        }
      ]
    },
    {
      "cell_type": "code",
      "metadata": {
        "id": "hOkgPqZziz4_",
        "colab_type": "code",
        "colab": {
          "base_uri": "https://localhost:8080/",
          "height": 68
        },
        "outputId": "cb6e8a9a-0da8-4ca5-d72e-ac65c758764d"
      },
      "source": [
        "print(\"R2_Score: %f\"%r2_score(y,predict_poly))\n",
        "print(\"MAE_Score:\",metrics.mean_absolute_error(y ,predict_poly))\n",
        "print(\"MSE_Score:\",metrics.mean_squared_error(y ,predict_poly))\n"
      ],
      "execution_count": 38,
      "outputs": [
        {
          "output_type": "stream",
          "text": [
            "R2_Score: 0.861510\n",
            "MAE_Score: 2.223657373866074\n",
            "MSE_Score: 11.691286759757288\n"
          ],
          "name": "stdout"
        }
      ]
    },
    {
      "cell_type": "markdown",
      "metadata": {
        "colab_type": "text",
        "id": "F-vDmOgkf4To"
      },
      "source": [
        "**Re-Applying Polynomial Regression on Boston Housing Datset to see if we can further increase the model's performance**\n",
        "\n",
        "\n"
      ]
    },
    {
      "cell_type": "code",
      "metadata": {
        "id": "q1oEyjNiX2zR",
        "colab_type": "code",
        "colab": {}
      },
      "source": [
        "from sklearn.preprocessing import PolynomialFeatures\n",
        "from sklearn.preprocessing import StandardScaler"
      ],
      "execution_count": 0,
      "outputs": []
    },
    {
      "cell_type": "code",
      "metadata": {
        "id": "nBCiwQQkYBI8",
        "colab_type": "code",
        "colab": {}
      },
      "source": [
        "scaler = StandardScaler()"
      ],
      "execution_count": 0,
      "outputs": []
    },
    {
      "cell_type": "code",
      "metadata": {
        "id": "c__mDAEqYFfF",
        "colab_type": "code",
        "colab": {
          "base_uri": "https://localhost:8080/",
          "height": 238
        },
        "outputId": "eb5186d2-2ee9-4895-bf67-a76200805f5a"
      },
      "source": [
        "boston.data"
      ],
      "execution_count": 41,
      "outputs": [
        {
          "output_type": "execute_result",
          "data": {
            "text/plain": [
              "array([[6.3200e-03, 1.8000e+01, 2.3100e+00, ..., 1.5300e+01, 3.9690e+02,\n",
              "        4.9800e+00],\n",
              "       [2.7310e-02, 0.0000e+00, 7.0700e+00, ..., 1.7800e+01, 3.9690e+02,\n",
              "        9.1400e+00],\n",
              "       [2.7290e-02, 0.0000e+00, 7.0700e+00, ..., 1.7800e+01, 3.9283e+02,\n",
              "        4.0300e+00],\n",
              "       ...,\n",
              "       [6.0760e-02, 0.0000e+00, 1.1930e+01, ..., 2.1000e+01, 3.9690e+02,\n",
              "        5.6400e+00],\n",
              "       [1.0959e-01, 0.0000e+00, 1.1930e+01, ..., 2.1000e+01, 3.9345e+02,\n",
              "        6.4800e+00],\n",
              "       [4.7410e-02, 0.0000e+00, 1.1930e+01, ..., 2.1000e+01, 3.9690e+02,\n",
              "        7.8800e+00]])"
            ]
          },
          "metadata": {
            "tags": []
          },
          "execution_count": 41
        }
      ]
    },
    {
      "cell_type": "code",
      "metadata": {
        "id": "NopaCxOwYFcq",
        "colab_type": "code",
        "colab": {}
      },
      "source": [
        "X =scaler.fit_transform(boston['data'])"
      ],
      "execution_count": 0,
      "outputs": []
    },
    {
      "cell_type": "code",
      "metadata": {
        "id": "TU8N42JqYFZy",
        "colab_type": "code",
        "colab": {
          "base_uri": "https://localhost:8080/",
          "height": 204
        },
        "outputId": "f8c7e781-6119-460c-aa48-b088bb379b30"
      },
      "source": [
        "pd.DataFrame(X).head()"
      ],
      "execution_count": 43,
      "outputs": [
        {
          "output_type": "execute_result",
          "data": {
            "text/html": [
              "<div>\n",
              "<style scoped>\n",
              "    .dataframe tbody tr th:only-of-type {\n",
              "        vertical-align: middle;\n",
              "    }\n",
              "\n",
              "    .dataframe tbody tr th {\n",
              "        vertical-align: top;\n",
              "    }\n",
              "\n",
              "    .dataframe thead th {\n",
              "        text-align: right;\n",
              "    }\n",
              "</style>\n",
              "<table border=\"1\" class=\"dataframe\">\n",
              "  <thead>\n",
              "    <tr style=\"text-align: right;\">\n",
              "      <th></th>\n",
              "      <th>0</th>\n",
              "      <th>1</th>\n",
              "      <th>2</th>\n",
              "      <th>3</th>\n",
              "      <th>4</th>\n",
              "      <th>5</th>\n",
              "      <th>6</th>\n",
              "      <th>7</th>\n",
              "      <th>8</th>\n",
              "      <th>9</th>\n",
              "      <th>10</th>\n",
              "      <th>11</th>\n",
              "      <th>12</th>\n",
              "    </tr>\n",
              "  </thead>\n",
              "  <tbody>\n",
              "    <tr>\n",
              "      <th>0</th>\n",
              "      <td>-0.419782</td>\n",
              "      <td>0.284830</td>\n",
              "      <td>-1.287909</td>\n",
              "      <td>-0.272599</td>\n",
              "      <td>-0.144217</td>\n",
              "      <td>0.413672</td>\n",
              "      <td>-0.120013</td>\n",
              "      <td>0.140214</td>\n",
              "      <td>-0.982843</td>\n",
              "      <td>-0.666608</td>\n",
              "      <td>-1.459000</td>\n",
              "      <td>0.441052</td>\n",
              "      <td>-1.075562</td>\n",
              "    </tr>\n",
              "    <tr>\n",
              "      <th>1</th>\n",
              "      <td>-0.417339</td>\n",
              "      <td>-0.487722</td>\n",
              "      <td>-0.593381</td>\n",
              "      <td>-0.272599</td>\n",
              "      <td>-0.740262</td>\n",
              "      <td>0.194274</td>\n",
              "      <td>0.367166</td>\n",
              "      <td>0.557160</td>\n",
              "      <td>-0.867883</td>\n",
              "      <td>-0.987329</td>\n",
              "      <td>-0.303094</td>\n",
              "      <td>0.441052</td>\n",
              "      <td>-0.492439</td>\n",
              "    </tr>\n",
              "    <tr>\n",
              "      <th>2</th>\n",
              "      <td>-0.417342</td>\n",
              "      <td>-0.487722</td>\n",
              "      <td>-0.593381</td>\n",
              "      <td>-0.272599</td>\n",
              "      <td>-0.740262</td>\n",
              "      <td>1.282714</td>\n",
              "      <td>-0.265812</td>\n",
              "      <td>0.557160</td>\n",
              "      <td>-0.867883</td>\n",
              "      <td>-0.987329</td>\n",
              "      <td>-0.303094</td>\n",
              "      <td>0.396427</td>\n",
              "      <td>-1.208727</td>\n",
              "    </tr>\n",
              "    <tr>\n",
              "      <th>3</th>\n",
              "      <td>-0.416750</td>\n",
              "      <td>-0.487722</td>\n",
              "      <td>-1.306878</td>\n",
              "      <td>-0.272599</td>\n",
              "      <td>-0.835284</td>\n",
              "      <td>1.016303</td>\n",
              "      <td>-0.809889</td>\n",
              "      <td>1.077737</td>\n",
              "      <td>-0.752922</td>\n",
              "      <td>-1.106115</td>\n",
              "      <td>0.113032</td>\n",
              "      <td>0.416163</td>\n",
              "      <td>-1.361517</td>\n",
              "    </tr>\n",
              "    <tr>\n",
              "      <th>4</th>\n",
              "      <td>-0.412482</td>\n",
              "      <td>-0.487722</td>\n",
              "      <td>-1.306878</td>\n",
              "      <td>-0.272599</td>\n",
              "      <td>-0.835284</td>\n",
              "      <td>1.228577</td>\n",
              "      <td>-0.511180</td>\n",
              "      <td>1.077737</td>\n",
              "      <td>-0.752922</td>\n",
              "      <td>-1.106115</td>\n",
              "      <td>0.113032</td>\n",
              "      <td>0.441052</td>\n",
              "      <td>-1.026501</td>\n",
              "    </tr>\n",
              "  </tbody>\n",
              "</table>\n",
              "</div>"
            ],
            "text/plain": [
              "         0         1         2   ...        10        11        12\n",
              "0 -0.419782  0.284830 -1.287909  ... -1.459000  0.441052 -1.075562\n",
              "1 -0.417339 -0.487722 -0.593381  ... -0.303094  0.441052 -0.492439\n",
              "2 -0.417342 -0.487722 -0.593381  ... -0.303094  0.396427 -1.208727\n",
              "3 -0.416750 -0.487722 -1.306878  ...  0.113032  0.416163 -1.361517\n",
              "4 -0.412482 -0.487722 -1.306878  ...  0.113032  0.441052 -1.026501\n",
              "\n",
              "[5 rows x 13 columns]"
            ]
          },
          "metadata": {
            "tags": []
          },
          "execution_count": 43
        }
      ]
    },
    {
      "cell_type": "code",
      "metadata": {
        "id": "3HqJPK_8YFXT",
        "colab_type": "code",
        "colab": {}
      },
      "source": [
        "poly = PolynomialFeatures(2)"
      ],
      "execution_count": 0,
      "outputs": []
    },
    {
      "cell_type": "code",
      "metadata": {
        "id": "AE5LGUpnYFUG",
        "colab_type": "code",
        "colab": {}
      },
      "source": [
        "Xpoly = poly.fit_transform(X)"
      ],
      "execution_count": 0,
      "outputs": []
    },
    {
      "cell_type": "code",
      "metadata": {
        "id": "wg7hnLxvYFRl",
        "colab_type": "code",
        "colab": {
          "base_uri": "https://localhost:8080/",
          "height": 34
        },
        "outputId": "ace6cece-48d1-452a-9480-a82e803e7120"
      },
      "source": [
        "Xpoly.shape"
      ],
      "execution_count": 46,
      "outputs": [
        {
          "output_type": "execute_result",
          "data": {
            "text/plain": [
              "(506, 105)"
            ]
          },
          "metadata": {
            "tags": []
          },
          "execution_count": 46
        }
      ]
    },
    {
      "cell_type": "code",
      "metadata": {
        "id": "IIOJXUx6YFOv",
        "colab_type": "code",
        "colab": {}
      },
      "source": [
        "X = Xpoly\n",
        "Y = boston['target']"
      ],
      "execution_count": 0,
      "outputs": []
    },
    {
      "cell_type": "code",
      "metadata": {
        "id": "cg_nyW4GYFMV",
        "colab_type": "code",
        "colab": {
          "base_uri": "https://localhost:8080/",
          "height": 34
        },
        "outputId": "028f8aa7-6afc-4794-d004-0c9d3daa1314"
      },
      "source": [
        "featurenames = ['intercept'] + list(boston['feature_names'])\n",
        "\n",
        "polyfeaturenames= []\n",
        "\n",
        "for i,x in enumerate(featurenames):\n",
        "  for y in featurenames[i: ]:\n",
        "    if (x=='intercept'):\n",
        "      polyfeaturenames.append(y)\n",
        "    elif(x==y):\n",
        "      polyfeaturenames.append((y+'_Square'))\n",
        "    else:\n",
        "      polyfeaturenames.append(x+'_'+y)\n",
        "\n",
        "print(featurenames)\n",
        "\n",
        "\n",
        "                                    "
      ],
      "execution_count": 48,
      "outputs": [
        {
          "output_type": "stream",
          "text": [
            "['intercept', 'CRIM', 'ZN', 'INDUS', 'CHAS', 'NOX', 'RM', 'AGE', 'DIS', 'RAD', 'TAX', 'PTRATIO', 'B', 'LSTAT']\n"
          ],
          "name": "stdout"
        }
      ]
    },
    {
      "cell_type": "code",
      "metadata": {
        "id": "Mb7EGdmPYFJc",
        "colab_type": "code",
        "colab": {
          "base_uri": "https://localhost:8080/",
          "height": 54
        },
        "outputId": "17945404-3686-4d88-a83d-5c5845a433fc"
      },
      "source": [
        "print(polyfeaturenames)"
      ],
      "execution_count": 49,
      "outputs": [
        {
          "output_type": "stream",
          "text": [
            "['intercept', 'CRIM', 'ZN', 'INDUS', 'CHAS', 'NOX', 'RM', 'AGE', 'DIS', 'RAD', 'TAX', 'PTRATIO', 'B', 'LSTAT', 'CRIM_Square', 'CRIM_ZN', 'CRIM_INDUS', 'CRIM_CHAS', 'CRIM_NOX', 'CRIM_RM', 'CRIM_AGE', 'CRIM_DIS', 'CRIM_RAD', 'CRIM_TAX', 'CRIM_PTRATIO', 'CRIM_B', 'CRIM_LSTAT', 'ZN_Square', 'ZN_INDUS', 'ZN_CHAS', 'ZN_NOX', 'ZN_RM', 'ZN_AGE', 'ZN_DIS', 'ZN_RAD', 'ZN_TAX', 'ZN_PTRATIO', 'ZN_B', 'ZN_LSTAT', 'INDUS_Square', 'INDUS_CHAS', 'INDUS_NOX', 'INDUS_RM', 'INDUS_AGE', 'INDUS_DIS', 'INDUS_RAD', 'INDUS_TAX', 'INDUS_PTRATIO', 'INDUS_B', 'INDUS_LSTAT', 'CHAS_Square', 'CHAS_NOX', 'CHAS_RM', 'CHAS_AGE', 'CHAS_DIS', 'CHAS_RAD', 'CHAS_TAX', 'CHAS_PTRATIO', 'CHAS_B', 'CHAS_LSTAT', 'NOX_Square', 'NOX_RM', 'NOX_AGE', 'NOX_DIS', 'NOX_RAD', 'NOX_TAX', 'NOX_PTRATIO', 'NOX_B', 'NOX_LSTAT', 'RM_Square', 'RM_AGE', 'RM_DIS', 'RM_RAD', 'RM_TAX', 'RM_PTRATIO', 'RM_B', 'RM_LSTAT', 'AGE_Square', 'AGE_DIS', 'AGE_RAD', 'AGE_TAX', 'AGE_PTRATIO', 'AGE_B', 'AGE_LSTAT', 'DIS_Square', 'DIS_RAD', 'DIS_TAX', 'DIS_PTRATIO', 'DIS_B', 'DIS_LSTAT', 'RAD_Square', 'RAD_TAX', 'RAD_PTRATIO', 'RAD_B', 'RAD_LSTAT', 'TAX_Square', 'TAX_PTRATIO', 'TAX_B', 'TAX_LSTAT', 'PTRATIO_Square', 'PTRATIO_B', 'PTRATIO_LSTAT', 'B_Square', 'B_LSTAT', 'LSTAT_Square']\n"
          ],
          "name": "stdout"
        }
      ]
    },
    {
      "cell_type": "code",
      "metadata": {
        "id": "G_XYTljzYFGo",
        "colab_type": "code",
        "colab": {
          "base_uri": "https://localhost:8080/",
          "height": 34
        },
        "outputId": "de4585c5-c45c-49e2-c8a7-bef472c28e44"
      },
      "source": [
        "Xpoly.shape"
      ],
      "execution_count": 50,
      "outputs": [
        {
          "output_type": "execute_result",
          "data": {
            "text/plain": [
              "(506, 105)"
            ]
          },
          "metadata": {
            "tags": []
          },
          "execution_count": 50
        }
      ]
    },
    {
      "cell_type": "code",
      "metadata": {
        "id": "HGAFBEZec_tR",
        "colab_type": "code",
        "colab": {
          "base_uri": "https://localhost:8080/",
          "height": 34
        },
        "outputId": "6176b11d-6d36-4cb9-e183-62ab463d4611"
      },
      "source": [
        "Y.shape"
      ],
      "execution_count": 51,
      "outputs": [
        {
          "output_type": "execute_result",
          "data": {
            "text/plain": [
              "(506,)"
            ]
          },
          "metadata": {
            "tags": []
          },
          "execution_count": 51
        }
      ]
    },
    {
      "cell_type": "code",
      "metadata": {
        "id": "VLZp3MBgZ9Xg",
        "colab_type": "code",
        "colab": {
          "base_uri": "https://localhost:8080/",
          "height": 34
        },
        "outputId": "a98faae6-b7fc-4072-d1d3-519bfcb8d910"
      },
      "source": [
        "lr2 = LinearRegression()\n",
        "lr2.fit(Xpoly,Y)"
      ],
      "execution_count": 52,
      "outputs": [
        {
          "output_type": "execute_result",
          "data": {
            "text/plain": [
              "LinearRegression(copy_X=True, fit_intercept=True, n_jobs=None, normalize=False)"
            ]
          },
          "metadata": {
            "tags": []
          },
          "execution_count": 52
        }
      ]
    },
    {
      "cell_type": "code",
      "metadata": {
        "id": "u4CzULKYZ9V1",
        "colab_type": "code",
        "colab": {
          "base_uri": "https://localhost:8080/",
          "height": 34
        },
        "outputId": "e32999d7-df0e-4726-fcef-37258f82ae9d"
      },
      "source": [
        "lr2.score(Xpoly,Y)"
      ],
      "execution_count": 53,
      "outputs": [
        {
          "output_type": "execute_result",
          "data": {
            "text/plain": [
              "0.9289912058307006"
            ]
          },
          "metadata": {
            "tags": []
          },
          "execution_count": 53
        }
      ]
    },
    {
      "cell_type": "markdown",
      "metadata": {
        "id": "PASGyt_niGIk",
        "colab_type": "text"
      },
      "source": [
        "**From above, you can see that score returns the coefficient of determination R^2 of the prediction**"
      ]
    },
    {
      "cell_type": "code",
      "metadata": {
        "id": "GU_V3IqGZ9UG",
        "colab_type": "code",
        "colab": {
          "base_uri": "https://localhost:8080/",
          "height": 34
        },
        "outputId": "94c626ac-2621-41fb-a96d-85c0dc59486a"
      },
      "source": [
        "lr2.adjR2, lr2.R2 = AdjustedRSquare(lr2,Xpoly,Y)\n",
        "print(lr2.adjR2, lr2.R2)"
      ],
      "execution_count": 54,
      "outputs": [
        {
          "output_type": "stream",
          "text": [
            "0.9103513973612595 0.9289912058307006\n"
          ],
          "name": "stdout"
        }
      ]
    },
    {
      "cell_type": "markdown",
      "metadata": {
        "id": "SGnVJ_1TgkJ-",
        "colab_type": "text"
      },
      "source": [
        "**From above, you can see the AjustedR_Squared and R_Square Value**"
      ]
    },
    {
      "cell_type": "markdown",
      "metadata": {
        "id": "5vVAIeNBa4eA",
        "colab_type": "text"
      },
      "source": [
        "**To Restrict the Model From Overfitting, we can use Regularized Regression Models such as Lasso or Ridge**"
      ]
    },
    {
      "cell_type": "markdown",
      "metadata": {
        "id": "SWm9qToWhfEe",
        "colab_type": "text"
      },
      "source": [
        "**Lasso Regression**"
      ]
    },
    {
      "cell_type": "code",
      "metadata": {
        "id": "OtBM7S2WZ9GA",
        "colab_type": "code",
        "colab": {
          "base_uri": "https://localhost:8080/",
          "height": 68
        },
        "outputId": "93834cef-0157-4abc-8550-0320e2dc11e1"
      },
      "source": [
        "lassomod = Lasso(alpha= 2)\n",
        "lassomod.fit(Xpoly, Y)"
      ],
      "execution_count": 55,
      "outputs": [
        {
          "output_type": "execute_result",
          "data": {
            "text/plain": [
              "Lasso(alpha=2, copy_X=True, fit_intercept=True, max_iter=1000, normalize=False,\n",
              "      positive=False, precompute=False, random_state=None, selection='cyclic',\n",
              "      tol=0.0001, warm_start=False)"
            ]
          },
          "metadata": {
            "tags": []
          },
          "execution_count": 55
        }
      ]
    },
    {
      "cell_type": "code",
      "metadata": {
        "id": "V8gZr3VyZ9CV",
        "colab_type": "code",
        "colab": {
          "base_uri": "https://localhost:8080/",
          "height": 34
        },
        "outputId": "3116be6d-be27-41e0-f3ef-ba0b8c65bf3f"
      },
      "source": [
        "lassomod.score(Xpoly,Y)"
      ],
      "execution_count": 56,
      "outputs": [
        {
          "output_type": "execute_result",
          "data": {
            "text/plain": [
              "0.7008192678309566"
            ]
          },
          "metadata": {
            "tags": []
          },
          "execution_count": 56
        }
      ]
    },
    {
      "cell_type": "markdown",
      "metadata": {
        "id": "S-7UzprBhAV7",
        "colab_type": "text"
      },
      "source": [
        "**From above, you can see that score returns the coefficient of determination R^2 of the prediction**"
      ]
    },
    {
      "cell_type": "markdown",
      "metadata": {
        "id": "AiaKmDukl_va",
        "colab_type": "text"
      },
      "source": [
        "**Note**: If you want to learn more about Lasso Regression [Click Here](https://scikit-learn.org/stable/modules/generated/sklearn.linear_model.Lasso.html)"
      ]
    },
    {
      "cell_type": "markdown",
      "metadata": {
        "id": "yJsPOo3AhVI3",
        "colab_type": "text"
      },
      "source": [
        "**Ridge Regression**"
      ]
    },
    {
      "cell_type": "code",
      "metadata": {
        "id": "LSUh01xedUF6",
        "colab_type": "code",
        "colab": {
          "base_uri": "https://localhost:8080/",
          "height": 51
        },
        "outputId": "13f70676-fb55-4f4f-c15b-e91727592519"
      },
      "source": [
        "ridgemod = Ridge(alpha=1)\n",
        "ridgemod.fit(Xpoly,Y)\n"
      ],
      "execution_count": 57,
      "outputs": [
        {
          "output_type": "execute_result",
          "data": {
            "text/plain": [
              "Ridge(alpha=1, copy_X=True, fit_intercept=True, max_iter=None, normalize=False,\n",
              "      random_state=None, solver='auto', tol=0.001)"
            ]
          },
          "metadata": {
            "tags": []
          },
          "execution_count": 57
        }
      ]
    },
    {
      "cell_type": "code",
      "metadata": {
        "id": "TsOENx5gdUD5",
        "colab_type": "code",
        "colab": {
          "base_uri": "https://localhost:8080/",
          "height": 34
        },
        "outputId": "51daebfe-a9d4-48f7-caed-5cf1bca58f65"
      },
      "source": [
        "ridgemod.score(Xpoly,Y)"
      ],
      "execution_count": 58,
      "outputs": [
        {
          "output_type": "execute_result",
          "data": {
            "text/plain": [
              "0.9269493487605964"
            ]
          },
          "metadata": {
            "tags": []
          },
          "execution_count": 58
        }
      ]
    },
    {
      "cell_type": "markdown",
      "metadata": {
        "id": "4S_B2qyhhTOK",
        "colab_type": "text"
      },
      "source": [
        "**From above, you can see that score returns the coefficient of determination R^2 of the prediction**"
      ]
    },
    {
      "cell_type": "markdown",
      "metadata": {
        "id": "J0iyNtEHmQzA",
        "colab_type": "text"
      },
      "source": [
        "**Note**: If you want to learn more about Lasso Regression [Click Here](https://scikit-learn.org/stable/modules/generated/sklearn.linear_model.Ridge.html)"
      ]
    },
    {
      "cell_type": "code",
      "metadata": {
        "id": "oRTNQB8gmb8-",
        "colab_type": "code",
        "colab": {}
      },
      "source": [
        ""
      ],
      "execution_count": 0,
      "outputs": []
    }
  ]
}